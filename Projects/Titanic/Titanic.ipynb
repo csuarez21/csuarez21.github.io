{
 "cells": [
  {
   "cell_type": "markdown",
   "metadata": {},
   "source": [
    "## Titanic Survival Predictions\n",
    "In this dataset, you will train a logistic regression model that can predict the survivors based on a set of features about the passenger. Start first by taking some time to understand your data. You can find more info about the data and its breakdown in this link https://www.kaggle.com/c/titanic/data"
   ]
  },
  {
   "cell_type": "markdown",
   "metadata": {},
   "source": [
    "### Start with Data Exploring\n",
    "Your data is split into two files. One for training and one for testing. Load both and find out the number of samples and features in each file"
   ]
  },
  {
   "cell_type": "code",
   "execution_count": 27,
   "metadata": {},
   "outputs": [
    {
     "name": "stdout",
     "output_type": "stream",
     "text": [
      "   PassengerId  Pclass                                          Name     Sex  \\\n",
      "0          892       3                              Kelly, Mr. James    male   \n",
      "1          893       3              Wilkes, Mrs. James (Ellen Needs)  female   \n",
      "2          894       2                     Myles, Mr. Thomas Francis    male   \n",
      "3          895       3                              Wirz, Mr. Albert    male   \n",
      "4          896       3  Hirvonen, Mrs. Alexander (Helga E Lindqvist)  female   \n",
      "\n",
      "    Age  SibSp  Parch   Ticket     Fare Cabin Embarked  \n",
      "0  34.5      0      0   330911   7.8292   NaN        Q  \n",
      "1  47.0      1      0   363272   7.0000   NaN        S  \n",
      "2  62.0      0      0   240276   9.6875   NaN        Q  \n",
      "3  27.0      0      0   315154   8.6625   NaN        S  \n",
      "4  22.0      1      1  3101298  12.2875   NaN        S  \n",
      "   PassengerId  Survived  Pclass  \\\n",
      "0            1         0       3   \n",
      "1            2         1       1   \n",
      "2            3         1       3   \n",
      "3            4         1       1   \n",
      "4            5         0       3   \n",
      "\n",
      "                                                Name     Sex   Age  SibSp  \\\n",
      "0                            Braund, Mr. Owen Harris    male  22.0      1   \n",
      "1  Cumings, Mrs. John Bradley (Florence Briggs Th...  female  38.0      1   \n",
      "2                             Heikkinen, Miss. Laina  female  26.0      0   \n",
      "3       Futrelle, Mrs. Jacques Heath (Lily May Peel)  female  35.0      1   \n",
      "4                           Allen, Mr. William Henry    male  35.0      0   \n",
      "\n",
      "   Parch            Ticket     Fare Cabin Embarked  \n",
      "0      0         A/5 21171   7.2500   NaN        S  \n",
      "1      0          PC 17599  71.2833   C85        C  \n",
      "2      0  STON/O2. 3101282   7.9250   NaN        S  \n",
      "3      0            113803  53.1000  C123        S  \n",
      "4      0            373450   8.0500   NaN        S  \n",
      "(418, 11)\n",
      "(891, 12)\n"
     ]
    }
   ],
   "source": [
    "import pandas as pd\n",
    "\n",
    "test = pd.read_csv('test.csv')\n",
    "train = pd.read_csv('train.csv')\n",
    "\n",
    "print(test.head(5))\n",
    "print(train.head(5))\n",
    "\n",
    "print(test.shape)\n",
    "print(train.shape)"
   ]
  },
  {
   "cell_type": "markdown",
   "metadata": {},
   "source": [
    "How many survivors in the training set?"
   ]
  },
  {
   "cell_type": "code",
   "execution_count": 28,
   "metadata": {},
   "outputs": [
    {
     "name": "stdout",
     "output_type": "stream",
     "text": [
      "There are 342 survivors in the training set.\n"
     ]
    }
   ],
   "source": [
    "survivedCount = train.query('Survived == 1')['Survived']\n",
    "print(\"There are \" + str(len(survivedCount)) + \" survivors in the training set.\")"
   ]
  },
  {
   "cell_type": "markdown",
   "metadata": {},
   "source": [
    "Can you find Jack and Rose in the data? Use some code. You probably won't find them as they were fictional characters. See if you can find Beatrice Irene Sandstorm? Read here about her https://www.encyclopedia-titanica.org/titanic-survivor/beatrice-irene-sandstrom.html"
   ]
  },
  {
   "cell_type": "code",
   "execution_count": 29,
   "metadata": {},
   "outputs": [
    {
     "name": "stdout",
     "output_type": "stream",
     "text": [
      "Training set finding Jack and Rose\n",
      "\n",
      "Empty DataFrame\n",
      "Columns: [PassengerId, Survived, Pclass, Name, Sex, Age, SibSp, Parch, Ticket, Fare, Cabin, Embarked]\n",
      "Index: []\n",
      "Empty DataFrame\n",
      "Columns: [PassengerId, Survived, Pclass, Name, Sex, Age, SibSp, Parch, Ticket, Fare, Cabin, Embarked]\n",
      "Index: []\n",
      "\n",
      "Testing set finding Jack and Rose\n",
      "\n",
      "Empty DataFrame\n",
      "Columns: [PassengerId, Pclass, Name, Sex, Age, SibSp, Parch, Ticket, Fare, Cabin, Embarked]\n",
      "Index: []\n",
      "Empty DataFrame\n",
      "Columns: [PassengerId, Pclass, Name, Sex, Age, SibSp, Parch, Ticket, Fare, Cabin, Embarked]\n",
      "Index: []\n",
      "\n",
      "Finding Beatrice\n",
      "\n",
      "Training set\n",
      "Empty DataFrame\n",
      "Columns: [PassengerId, Survived, Pclass, Name, Sex, Age, SibSp, Parch, Ticket, Fare, Cabin, Embarked]\n",
      "Index: []\n",
      "\n",
      "Testing set\n",
      "     PassengerId  Pclass                             Name     Sex  Age  SibSp  \\\n",
      "117         1009       3  Sandstrom, Miss. Beatrice Irene  female  1.0      1   \n",
      "\n",
      "     Parch   Ticket  Fare Cabin Embarked  \n",
      "117      1  PP 9549  16.7    G6        S  \n"
     ]
    }
   ],
   "source": [
    "print(\"Training set finding Jack and Rose\\n\")\n",
    "findJack = train.loc[train['Name'].str.contains(' Jack ')]\n",
    "print(findJack)\n",
    "findRose = train.loc[train['Name'].str.contains(' Rose ')]\n",
    "print(findRose)\n",
    "\n",
    "print(\"\\nTesting set finding Jack and Rose\\n\")\n",
    "\n",
    "findJack2 = test.loc[test['Name'].str.contains(' Jack ')]\n",
    "print(findJack2)\n",
    "findRose2 = test.loc[test['Name'].str.contains(' Rose ')]\n",
    "print(findRose2)\n",
    "\n",
    "print(\"\\nFinding Beatrice\\n\")\n",
    "\n",
    "print(\"Training set\")\n",
    "findBeatrice = train.loc[train['Name'].str.contains('Beatrice')]\n",
    "print(findBeatrice)\n",
    "\n",
    "print(\"\\nTesting set\")\n",
    "findBeatrice2 = test.loc[test['Name'].str.contains('Beatrice')]\n",
    "print(findBeatrice2)"
   ]
  },
  {
   "cell_type": "markdown",
   "metadata": {},
   "source": [
    "### Does features make a difference?\n",
    "In the training dataset (file)\n",
    "- Pclass - Usually, higher class (class 1) meant a more expensive fare and the other classes paid lesser to be on the ship. What was the survival rate per class?\n",
    "- Sex — What was the survival rate of women?\n",
    "- SibSp — What was the survival rate based on number of siblings the passenger had on the ship?\n",
    "- Parch — What was the survival rate based on number of parents/children the passenger had on the ship?"
   ]
  },
  {
   "cell_type": "code",
   "execution_count": 30,
   "metadata": {},
   "outputs": [
    {
     "name": "stdout",
     "output_type": "stream",
     "text": [
      "Class 1 survival rate: 62.96%\n",
      "Class 2 survival rate: 47.28%\n",
      "Class 3 survival rate: 24.24%\n"
     ]
    }
   ],
   "source": [
    "# Finding the survival rate for each Pclass\n",
    "\n",
    "class1 = train[train['Pclass'] == 1]\n",
    "survivedClass1 = class1.loc[class1['Survived'] == 1]\n",
    "surviveRate1 = (len(survivedClass1)/len(class1))*100\n",
    "print(\"Class 1 survival rate: \" + str(round(surviveRate1, 2)) + \"%\")\n",
    "\n",
    "class2 = train[train['Pclass'] == 2]\n",
    "survivedClass2 = class2.loc[class2['Survived'] == 1]\n",
    "surviveRate2 = (len(survivedClass2)/len(class2))*100\n",
    "print(\"Class 2 survival rate: \" + str(round(surviveRate2, 2)) + \"%\")\n",
    "\n",
    "class3 = train[train['Pclass'] == 3]\n",
    "survivedClass3 = class3.loc[class3['Survived'] == 1]\n",
    "surviveRate3 = (len(survivedClass3)/len(class3))*100\n",
    "print(\"Class 3 survival rate: \" + str(round(surviveRate3, 2)) + \"%\")"
   ]
  },
  {
   "cell_type": "code",
   "execution_count": 31,
   "metadata": {},
   "outputs": [
    {
     "name": "stdout",
     "output_type": "stream",
     "text": [
      "Women survival rate: 74.2%\n"
     ]
    }
   ],
   "source": [
    "# Finding the survival rate for women\n",
    "\n",
    "women = train[train['Sex'] == 'female']\n",
    "survivedWomen = women.loc[women['Survived'] == 1]\n",
    "surviveRatewomen = (len(survivedWomen)/len(women))*100\n",
    "print(\"Women survival rate: \" + str(round(surviveRatewomen, 2)) + \"%\")"
   ]
  },
  {
   "cell_type": "code",
   "execution_count": 32,
   "metadata": {},
   "outputs": [
    {
     "name": "stdout",
     "output_type": "stream",
     "text": [
      "0    608\n",
      "1    209\n",
      "2     28\n",
      "4     18\n",
      "3     16\n",
      "8      7\n",
      "5      5\n",
      "Name: SibSp, dtype: int64\n",
      "0 siblings survival rate: 34.54%\n",
      "1 siblings survival rate: 53.59%\n",
      "2 siblings survival rate: 46.43%\n",
      "3 siblings survival rate: 25.0%\n",
      "4 siblings survival rate: 16.67%\n",
      "5 siblings survival rate: 0.0%\n",
      "8 siblings survival rate: 0.0%\n"
     ]
    }
   ],
   "source": [
    "# Finding the survival rate for passengers with siblings\n",
    "\n",
    "print(train[\"SibSp\"].value_counts()) # 0, 1, 2, 3, 4, 5, and 8 are the different values in this column\n",
    "\n",
    "Sib0 = train[train['SibSp'] == 0]\n",
    "survived0 = Sib0.loc[Sib0['Survived'] == 1]\n",
    "surviveRateSib0 = (len(survived0)/len(Sib0))*100\n",
    "print(\"0 siblings survival rate: \" + str(round(surviveRateSib0, 2)) + \"%\")\n",
    "\n",
    "Sib1 = train[train['SibSp'] == 1]\n",
    "survived1 = Sib1.loc[Sib1['Survived'] == 1]\n",
    "surviveRateSib1 = (len(survived1)/len(Sib1))*100\n",
    "print(\"1 siblings survival rate: \" + str(round(surviveRateSib1, 2)) + \"%\")\n",
    "\n",
    "Sib2 = train[train['SibSp'] == 2]\n",
    "survived2 = Sib2.loc[Sib2['Survived'] == 1]\n",
    "surviveRateSib2 = (len(survived2)/len(Sib2))*100\n",
    "print(\"2 siblings survival rate: \" + str(round(surviveRateSib2, 2)) + \"%\")\n",
    "\n",
    "Sib3 = train[train['SibSp'] == 3]\n",
    "survived3 = Sib3.loc[Sib3['Survived'] == 1]\n",
    "surviveRateSib3 = (len(survived3)/len(Sib3))*100\n",
    "print(\"3 siblings survival rate: \" + str(round(surviveRateSib3, 2)) + \"%\")\n",
    "\n",
    "Sib4 = train[train['SibSp'] == 4]\n",
    "survived4 = Sib4.loc[Sib4['Survived'] == 1]\n",
    "surviveRateSib4 = (len(survived4)/len(Sib4))*100\n",
    "print(\"4 siblings survival rate: \" + str(round(surviveRateSib4, 2)) + \"%\")\n",
    "\n",
    "Sib5 = train[train['SibSp'] == 5]\n",
    "survived5 = Sib5.loc[Sib5['Survived'] == 1]\n",
    "surviveRateSib5 = (len(survived5)/len(Sib5))*100\n",
    "print(\"5 siblings survival rate: \" + str(round(surviveRateSib5, 2)) + \"%\")\n",
    "\n",
    "Sib8 = train[train['SibSp'] == 8]\n",
    "survived8 = Sib8.loc[Sib8['Survived'] == 1]\n",
    "surviveRateSib8 = (len(survived8)/len(Sib8))*100\n",
    "print(\"8 siblings survival rate: \" + str(round(surviveRateSib8, 2)) + \"%\")"
   ]
  },
  {
   "cell_type": "code",
   "execution_count": 33,
   "metadata": {},
   "outputs": [
    {
     "name": "stdout",
     "output_type": "stream",
     "text": [
      "0    678\n",
      "1    118\n",
      "2     80\n",
      "3      5\n",
      "5      5\n",
      "4      4\n",
      "6      1\n",
      "Name: Parch, dtype: int64\n",
      "0 Parch survival rate: 34.37%\n",
      "1 Parch survival rate: 55.08%\n",
      "2 Parch survival rate: 50.0%\n",
      "3 Parch survival rate: 60.0%\n",
      "4 Parch survival rate: 0.0%\n",
      "5 Parch survival rate: 20.0%\n",
      "8 Parch survival rate: 0.0%\n"
     ]
    }
   ],
   "source": [
    "# Finding the survival rate for parents/children\n",
    "\n",
    "print(train[\"Parch\"].value_counts()) # 0, 1, 2, 3, 4, 5, and 6 are the different values in this column\n",
    "\n",
    "Parch0 = train[train['Parch'] == 0]\n",
    "survivedParch0 = Parch0.loc[Parch0['Survived'] == 1]\n",
    "surviveRateParch0 = (len(survivedParch0)/len(Parch0))*100\n",
    "print(\"0 Parch survival rate: \" + str(round(surviveRateParch0, 2)) + \"%\")\n",
    "\n",
    "Parch1 = train[train['Parch'] == 1]\n",
    "survivedParch1 = Parch1.loc[Parch1['Survived'] == 1]\n",
    "surviveRateParch1 = (len(survivedParch1)/len(Parch1))*100\n",
    "print(\"1 Parch survival rate: \" + str(round(surviveRateParch1, 2)) + \"%\")\n",
    "\n",
    "Parch2 = train[train['Parch'] == 2]\n",
    "survivedParch2 = Parch2.loc[Parch2['Survived'] == 1]\n",
    "surviveRateParch2 = (len(survivedParch2)/len(Parch2))*100\n",
    "print(\"2 Parch survival rate: \" + str(round(surviveRateParch2, 2)) + \"%\")\n",
    "\n",
    "Parch3 = train[train['Parch'] == 3]\n",
    "survivedParch3 = Parch3.loc[Parch3['Survived'] == 1]\n",
    "surviveRateParch3 = (len(survivedParch3)/len(Parch3))*100\n",
    "print(\"3 Parch survival rate: \" + str(round(surviveRateParch3, 2)) + \"%\")\n",
    "\n",
    "Parch4 = train[train['Parch'] == 4]\n",
    "survivedParch4 = Parch4.loc[Parch4['Survived'] == 1]\n",
    "surviveRateParch4 = (len(survivedParch4)/len(Parch4))*100\n",
    "print(\"4 Parch survival rate: \" + str(round(surviveRateParch4, 2)) + \"%\")\n",
    "\n",
    "Parch5 = train[train['Parch'] == 5]\n",
    "survivedParch5 = Parch5.loc[Parch5['Survived'] == 1]\n",
    "surviveRateParch5 = (len(survivedParch5)/len(Parch5))*100\n",
    "print(\"5 Parch survival rate: \" + str(round(surviveRateParch5, 2)) + \"%\")\n",
    "\n",
    "Parch6 = train[train['Parch'] == 6]\n",
    "survivedParch6 = Parch6.loc[Parch6['Survived'] == 1]\n",
    "surviveRateParch6 = (len(survivedParch6)/len(Parch6))*100\n",
    "print(\"8 Parch survival rate: \" + str(round(surviveRateParch6, 2)) + \"%\")"
   ]
  },
  {
   "cell_type": "markdown",
   "metadata": {},
   "source": [
    "Plot two histogram based on the age. One for the survivors and other for non survivors. According to the histogram was Jack more likely to survive or not survive and why?"
   ]
  },
  {
   "cell_type": "code",
   "execution_count": 34,
   "metadata": {},
   "outputs": [
    {
     "name": "stdout",
     "output_type": "stream",
     "text": [
      "Jack was more likely to not survive. Jack was 20 years old and based on the data we see that there was a higher chance of 20 year olds not surviving.\n"
     ]
    },
    {
     "data": {
      "image/png": "[encoded data removed]",
      "text/plain": [
       "<Figure size 432x288 with 1 Axes>"
      ]
     },
     "metadata": {
      "needs_background": "light"
     },
     "output_type": "display_data"
    },
    {
     "data": {
      "image/png": "[encoded data removed]",
      "text/plain": [
       "<Figure size 432x288 with 1 Axes>"
      ]
     },
     "metadata": {
      "needs_background": "light"
     },
     "output_type": "display_data"
    }
   ],
   "source": [
    "SurviveDF = train.loc[train['Survived'] == 1]\n",
    "#print(len(SurviveDF))\n",
    "NotSurviveDF = train.loc[train['Survived'] == 0]\n",
    "#print(len(NotSurviveDF))\n",
    "\n",
    "SurviveDF['Age'].hist(by=SurviveDF['Survived'])\n",
    "NotSurviveDF['Age'].hist(by=NotSurviveDF['Survived'])\n",
    "\n",
    "print('Jack was more likely to not survive. Jack was 20 years old and based on the data we see that there'\n",
    "      ' was a higher chance of 20 year olds not surviving.')"
   ]
  },
  {
   "cell_type": "markdown",
   "metadata": {},
   "source": [
    "Divide the age histograms into 3 X 2 subplots. Left column is for non survival data and the right one is for survivors. Each row is for one of the three PClasses"
   ]
  },
  {
   "cell_type": "code",
   "execution_count": 35,
   "metadata": {},
   "outputs": [
    {
     "data": {
      "text/plain": [
       "Text(0.5, 1.0, 'Class 3 Survived by Age')"
      ]
     },
     "execution_count": 35,
     "metadata": {},
     "output_type": "execute_result"
    },
    {
     "data": {
      "image/png": "[encoded data removed]",
      "text/plain": [
       "<Figure size 1440x1440 with 6 Axes>"
      ]
     },
     "metadata": {
      "needs_background": "light"
     },
     "output_type": "display_data"
    }
   ],
   "source": [
    "import matplotlib.pyplot as plt\n",
    "%matplotlib inline\n",
    "plt.figure(figsize = (20, 20))\n",
    "\n",
    "#Class 1\n",
    "\n",
    "Pclass1 = train[train['Pclass'] == 1] \n",
    "NsurvivedClass1 = Pclass1.loc[Pclass1['Survived'] == 0] # Not survived\n",
    "\n",
    "plt.subplot(3,2, 1)\n",
    "plt.hist(NsurvivedClass1['Age']) \n",
    "plt.xlabel('Age')\n",
    "plt.ylabel('Num of People')\n",
    "plt.title('Class 1 Not Survived by Age')\n",
    "\n",
    "\n",
    "survivedClass1 = Pclass1.loc[Pclass1['Survived'] == 1] # Survived\n",
    "\n",
    "plt.subplot(3,2, 2)\n",
    "plt.hist(survivedClass1['Age']) \n",
    "plt.xlabel('Age')\n",
    "plt.ylabel('Num of People')\n",
    "plt.title('Class 1 Survived by Age')\n",
    "\n",
    "#Class 2\n",
    "\n",
    "Pclass2 = train[train['Pclass'] == 2]\n",
    "NsurvivedClass2 = Pclass2.loc[Pclass2['Survived'] == 0] # Not survived\n",
    "\n",
    "plt.subplot(3,2, 3)\n",
    "plt.hist(NsurvivedClass2['Age']) \n",
    "plt.xlabel('Age')\n",
    "plt.ylabel('Num of People')\n",
    "plt.title('Class 2 Not Survived by Age')\n",
    "\n",
    "survivedClass2 = Pclass2.loc[Pclass2['Survived'] == 1] # Survived\n",
    "\n",
    "plt.subplot(3,2, 4)\n",
    "plt.hist(survivedClass2['Age']) \n",
    "plt.xlabel('Age')\n",
    "plt.ylabel('Num of People')\n",
    "plt.title('Class 2 Survived by Age')\n",
    "\n",
    "#Class 3\n",
    "\n",
    "Pclass3 = train[train['Pclass'] == 3]\n",
    "NsurvivedClass3 = Pclass3.loc[Pclass3['Survived'] == 0] # Not survived\n",
    "\n",
    "plt.subplot(3,2, 5)\n",
    "plt.hist(NsurvivedClass3['Age']) \n",
    "plt.xlabel('Age')\n",
    "plt.ylabel('Num of People')\n",
    "plt.title('Class 3 Not Survived by Age')\n",
    "\n",
    "survivedClass3 = Pclass3.loc[Pclass3['Survived'] == 1] # Survived\n",
    "\n",
    "plt.subplot(3,2, 6)\n",
    "plt.hist(survivedClass3['Age']) \n",
    "plt.xlabel('Age')\n",
    "plt.ylabel('Num of People')\n",
    "plt.title('Class 3 Survived by Age')"
   ]
  },
  {
   "cell_type": "markdown",
   "metadata": {},
   "source": [
    "## Fix missing Data in the Training Dataset\n",
    "Which features in the training contains missing values? and how many missing values are there?"
   ]
  },
  {
   "cell_type": "code",
   "execution_count": 36,
   "metadata": {},
   "outputs": [
    {
     "name": "stdout",
     "output_type": "stream",
     "text": [
      "True\n",
      "There are 866 missing values.\n"
     ]
    }
   ],
   "source": [
    "print(train.isnull().values.any())\n",
    "numNan = train.isnull().sum().sum()\n",
    "print(\"There are \" + str(numNan) + \" missing values.\")"
   ]
  },
  {
   "cell_type": "markdown",
   "metadata": {},
   "source": [
    "Find out the median age grouped by PClass and gender. Clean up the data by substituting the nans by the median from the corresponding PClass and gender"
   ]
  },
  {
   "cell_type": "code",
   "execution_count": 37,
   "metadata": {},
   "outputs": [
    {
     "name": "stdout",
     "output_type": "stream",
     "text": [
      "                 Age\n",
      "              median\n",
      "Pclass Sex          \n",
      "1      female   35.0\n",
      "       male     40.0\n",
      "2      female   28.0\n",
      "       male     30.0\n",
      "3      female   21.5\n",
      "       male     25.0\n"
     ]
    },
    {
     "name": "stderr",
     "output_type": "stream",
     "text": [
      "/Users/colinsuarez/opt/anaconda3/lib/python3.8/site-packages/pandas/core/indexing.py:1637: SettingWithCopyWarning: \n",
      "A value is trying to be set on a copy of a slice from a DataFrame\n",
      "\n",
      "See the caveats in the documentation: https://pandas.pydata.org/pandas-docs/stable/user_guide/indexing.html#returning-a-view-versus-a-copy\n",
      "  self._setitem_single_block(indexer, value, name)\n",
      "/Users/colinsuarez/opt/anaconda3/lib/python3.8/site-packages/pandas/core/indexing.py:1637: SettingWithCopyWarning: \n",
      "A value is trying to be set on a copy of a slice from a DataFrame\n",
      "\n",
      "See the caveats in the documentation: https://pandas.pydata.org/pandas-docs/stable/user_guide/indexing.html#returning-a-view-versus-a-copy\n",
      "  self._setitem_single_block(indexer, value, name)\n",
      "/Users/colinsuarez/opt/anaconda3/lib/python3.8/site-packages/pandas/core/indexing.py:1637: SettingWithCopyWarning: \n",
      "A value is trying to be set on a copy of a slice from a DataFrame\n",
      "\n",
      "See the caveats in the documentation: https://pandas.pydata.org/pandas-docs/stable/user_guide/indexing.html#returning-a-view-versus-a-copy\n",
      "  self._setitem_single_block(indexer, value, name)\n",
      "/Users/colinsuarez/opt/anaconda3/lib/python3.8/site-packages/pandas/core/indexing.py:1637: SettingWithCopyWarning: \n",
      "A value is trying to be set on a copy of a slice from a DataFrame\n",
      "\n",
      "See the caveats in the documentation: https://pandas.pydata.org/pandas-docs/stable/user_guide/indexing.html#returning-a-view-versus-a-copy\n",
      "  self._setitem_single_block(indexer, value, name)\n",
      "/Users/colinsuarez/opt/anaconda3/lib/python3.8/site-packages/pandas/core/indexing.py:1637: SettingWithCopyWarning: \n",
      "A value is trying to be set on a copy of a slice from a DataFrame\n",
      "\n",
      "See the caveats in the documentation: https://pandas.pydata.org/pandas-docs/stable/user_guide/indexing.html#returning-a-view-versus-a-copy\n",
      "  self._setitem_single_block(indexer, value, name)\n",
      "/Users/colinsuarez/opt/anaconda3/lib/python3.8/site-packages/pandas/core/indexing.py:1637: SettingWithCopyWarning: \n",
      "A value is trying to be set on a copy of a slice from a DataFrame\n",
      "\n",
      "See the caveats in the documentation: https://pandas.pydata.org/pandas-docs/stable/user_guide/indexing.html#returning-a-view-versus-a-copy\n",
      "  self._setitem_single_block(indexer, value, name)\n"
     ]
    }
   ],
   "source": [
    "print(train.groupby(['Pclass', 'Sex'])[['Age']].agg(['median']))\n",
    "\n",
    "train['Age'].loc[(train['Pclass'] == 1) & (train['Sex'] == 'female') & (train['Age'].isnull())]= 35\n",
    "train['Age'].loc[(train['Pclass'] == 1) & (train['Sex'] == 'male') & (train['Age'].isnull())]= 40\n",
    "\n",
    "train['Age'].loc[(train['Pclass'] == 2) & (train['Sex'] == 'female') & (train['Age'].isnull())]= 28\n",
    "train['Age'].loc[(train['Pclass'] == 2) & (train['Sex'] == 'male') & (train['Age'].isnull())]= 30\n",
    "\n",
    "train['Age'].loc[(train['Pclass'] == 3) & (train['Sex'] == 'female') & (train['Age'].isnull())]= 21.5\n",
    "train['Age'].loc[(train['Pclass'] == 3) & (train['Sex'] == 'male') & (train['Age'].isnull())]= 25"
   ]
  },
  {
   "cell_type": "code",
   "execution_count": 38,
   "metadata": {},
   "outputs": [
    {
     "name": "stdout",
     "output_type": "stream",
     "text": [
      "False\n"
     ]
    }
   ],
   "source": [
    "print(train['Age'].isnull().values.any()) "
   ]
  },
  {
   "cell_type": "markdown",
   "metadata": {},
   "source": [
    "For the Embarked column, substitute the missing value with the highest occurence value among the entire dataset"
   ]
  },
  {
   "cell_type": "code",
   "execution_count": 39,
   "metadata": {},
   "outputs": [
    {
     "name": "stdout",
     "output_type": "stream",
     "text": [
      "False\n"
     ]
    }
   ],
   "source": [
    "train['Embarked'].value_counts()\n",
    "\n",
    "train['Embarked'].loc[(train['Embarked'].isnull())]= 'S'\n",
    "print(train['Embarked'].isnull().values.any()) "
   ]
  },
  {
   "cell_type": "markdown",
   "metadata": {},
   "source": [
    "## Let's build our Model\n",
    "Cabin, Name, ticket and Passenger Id are not important to our ML model. Let's get rid of them"
   ]
  },
  {
   "cell_type": "code",
   "execution_count": 40,
   "metadata": {},
   "outputs": [],
   "source": [
    "df_train = train.drop(['Cabin', 'Name', 'Ticket', 'PassengerId'], axis=1)"
   ]
  },
  {
   "cell_type": "markdown",
   "metadata": {},
   "source": [
    "Make sure now that your data does not have any nulls"
   ]
  },
  {
   "cell_type": "code",
   "execution_count": 41,
   "metadata": {},
   "outputs": [
    {
     "data": {
      "text/plain": [
       "False"
      ]
     },
     "execution_count": 41,
     "metadata": {},
     "output_type": "execute_result"
    }
   ],
   "source": [
    "df_train['Embarked'].isnull().values.any()"
   ]
  },
  {
   "cell_type": "markdown",
   "metadata": {},
   "source": [
    "We need to convert some of our features to categories and numbers instead of letters as logistic regression model won't be able to decode them. Map the embarked variable into 0,1, and 2 and the sex variable into 0 and 1\n",
    "\n",
    "% hint: `df_train['Embarked'].astype('category').cat.codes`"
   ]
  },
  {
   "cell_type": "code",
   "execution_count": 42,
   "metadata": {},
   "outputs": [
    {
     "data": {
      "text/html": [
       "<div>\n",
       "<style scoped>\n",
       "    .dataframe tbody tr th:only-of-type {\n",
       "        vertical-align: middle;\n",
       "    }\n",
       "\n",
       "    .dataframe tbody tr th {\n",
       "        vertical-align: top;\n",
       "    }\n",
       "\n",
       "    .dataframe thead th {\n",
       "        text-align: right;\n",
       "    }\n",
       "</style>\n",
       "<table border=\"1\" class=\"dataframe\">\n",
       "  <thead>\n",
       "    <tr style=\"text-align: right;\">\n",
       "      <th></th>\n",
       "      <th>Survived</th>\n",
       "      <th>Pclass</th>\n",
       "      <th>Sex</th>\n",
       "      <th>Age</th>\n",
       "      <th>SibSp</th>\n",
       "      <th>Parch</th>\n",
       "      <th>Fare</th>\n",
       "      <th>Embarked</th>\n",
       "    </tr>\n",
       "  </thead>\n",
       "  <tbody>\n",
       "    <tr>\n",
       "      <th>0</th>\n",
       "      <td>0</td>\n",
       "      <td>3</td>\n",
       "      <td>1</td>\n",
       "      <td>22.0</td>\n",
       "      <td>1</td>\n",
       "      <td>0</td>\n",
       "      <td>7.2500</td>\n",
       "      <td>2</td>\n",
       "    </tr>\n",
       "    <tr>\n",
       "      <th>1</th>\n",
       "      <td>1</td>\n",
       "      <td>1</td>\n",
       "      <td>0</td>\n",
       "      <td>38.0</td>\n",
       "      <td>1</td>\n",
       "      <td>0</td>\n",
       "      <td>71.2833</td>\n",
       "      <td>0</td>\n",
       "    </tr>\n",
       "    <tr>\n",
       "      <th>2</th>\n",
       "      <td>1</td>\n",
       "      <td>3</td>\n",
       "      <td>0</td>\n",
       "      <td>26.0</td>\n",
       "      <td>0</td>\n",
       "      <td>0</td>\n",
       "      <td>7.9250</td>\n",
       "      <td>2</td>\n",
       "    </tr>\n",
       "    <tr>\n",
       "      <th>3</th>\n",
       "      <td>1</td>\n",
       "      <td>1</td>\n",
       "      <td>0</td>\n",
       "      <td>35.0</td>\n",
       "      <td>1</td>\n",
       "      <td>0</td>\n",
       "      <td>53.1000</td>\n",
       "      <td>2</td>\n",
       "    </tr>\n",
       "    <tr>\n",
       "      <th>4</th>\n",
       "      <td>0</td>\n",
       "      <td>3</td>\n",
       "      <td>1</td>\n",
       "      <td>35.0</td>\n",
       "      <td>0</td>\n",
       "      <td>0</td>\n",
       "      <td>8.0500</td>\n",
       "      <td>2</td>\n",
       "    </tr>\n",
       "  </tbody>\n",
       "</table>\n",
       "</div>"
      ],
      "text/plain": [
       "   Survived  Pclass  Sex   Age  SibSp  Parch     Fare  Embarked\n",
       "0         0       3    1  22.0      1      0   7.2500         2\n",
       "1         1       1    0  38.0      1      0  71.2833         0\n",
       "2         1       3    0  26.0      0      0   7.9250         2\n",
       "3         1       1    0  35.0      1      0  53.1000         2\n",
       "4         0       3    1  35.0      0      0   8.0500         2"
      ]
     },
     "execution_count": 42,
     "metadata": {},
     "output_type": "execute_result"
    }
   ],
   "source": [
    "df_train['Embarked'] = df_train['Embarked'].astype('category').cat.codes\n",
    "df_train['Sex'] = df_train['Sex'].astype('category').cat.codes\n",
    "df_train.head()"
   ]
  },
  {
   "cell_type": "markdown",
   "metadata": {},
   "source": [
    "You are now ready to build a logistic regression model and fit it. You do not to split your data since I have already splitted for you in 2 different files so use all the training"
   ]
  },
  {
   "cell_type": "code",
   "execution_count": 43,
   "metadata": {},
   "outputs": [
    {
     "data": {
      "text/plain": [
       "LogisticRegression()"
      ]
     },
     "execution_count": 43,
     "metadata": {},
     "output_type": "execute_result"
    }
   ],
   "source": [
    "from sklearn.linear_model import LogisticRegression\n",
    "logreg = LogisticRegression()\n",
    "\n",
    "\n",
    "X = df_train.iloc[:, df_train.columns != 'Survived']\n",
    "Y = df_train['Survived']\n",
    "\n",
    "logreg.fit(X, Y)"
   ]
  },
  {
   "cell_type": "markdown",
   "metadata": {},
   "source": [
    "Show the training score. "
   ]
  },
  {
   "cell_type": "code",
   "execution_count": 44,
   "metadata": {},
   "outputs": [
    {
     "name": "stdout",
     "output_type": "stream",
     "text": [
      "0.8092031425364759\n"
     ]
    }
   ],
   "source": [
    "print(logreg.score(X, Y))"
   ]
  },
  {
   "cell_type": "markdown",
   "metadata": {},
   "source": [
    "What are the coefficients. Make a plot that shows the importance of each feature in your model"
   ]
  },
  {
   "cell_type": "code",
   "execution_count": 45,
   "metadata": {},
   "outputs": [
    {
     "name": "stdout",
     "output_type": "stream",
     "text": [
      "[[-1.15301519e+00 -2.60440451e+00 -4.27681357e-02 -3.37290440e-01\n",
      "  -8.00019906e-02  1.93074881e-03 -1.93603342e-01]]\n",
      "[5.39339563]\n",
      "Feature: 0, Score: -1.15302\n",
      "Feature: 1, Score: -2.60440\n",
      "Feature: 2, Score: -0.04277\n",
      "Feature: 3, Score: -0.33729\n",
      "Feature: 4, Score: -0.08000\n",
      "Feature: 5, Score: 0.00193\n",
      "Feature: 6, Score: -0.19360\n"
     ]
    },
    {
     "data": {
      "image/png": "[encoded data removed]",
      "text/plain": [
       "<Figure size 432x288 with 1 Axes>"
      ]
     },
     "metadata": {
      "needs_background": "light"
     },
     "output_type": "display_data"
    }
   ],
   "source": [
    "from matplotlib import pyplot\n",
    "\n",
    "print(logreg.coef_) # These are the weights w\n",
    "print(logreg.intercept_)\n",
    "\n",
    "importance = logreg.coef_[0]\n",
    "# summarize feature importance\n",
    "for i,v in enumerate(importance):\n",
    "    print('Feature: %0d, Score: %.5f' % (i,v))\n",
    "# plot feature importance\n",
    "pyplot.bar([x for x in range(len(importance))], importance)\n",
    "pyplot.show()"
   ]
  },
  {
   "cell_type": "markdown",
   "metadata": {},
   "source": [
    "Use the logistic regression model on the test data to predict who will survive. You may need to do same cleaning you have done in the training data to the test data"
   ]
  },
  {
   "cell_type": "code",
   "execution_count": 46,
   "metadata": {},
   "outputs": [
    {
     "name": "stdout",
     "output_type": "stream",
     "text": [
      "                 Age\n",
      "              median\n",
      "Pclass Sex          \n",
      "1      female   41.0\n",
      "       male     42.0\n",
      "2      female   24.0\n",
      "       male     28.0\n",
      "3      female   22.0\n",
      "       male     24.0\n",
      "S    646\n",
      "C    168\n",
      "Q     77\n",
      "Name: Embarked, dtype: int64\n",
      "False\n"
     ]
    },
    {
     "name": "stderr",
     "output_type": "stream",
     "text": [
      "/Users/colinsuarez/opt/anaconda3/lib/python3.8/site-packages/pandas/core/indexing.py:1637: SettingWithCopyWarning: \n",
      "A value is trying to be set on a copy of a slice from a DataFrame\n",
      "\n",
      "See the caveats in the documentation: https://pandas.pydata.org/pandas-docs/stable/user_guide/indexing.html#returning-a-view-versus-a-copy\n",
      "  self._setitem_single_block(indexer, value, name)\n",
      "/Users/colinsuarez/opt/anaconda3/lib/python3.8/site-packages/pandas/core/indexing.py:1637: SettingWithCopyWarning: \n",
      "A value is trying to be set on a copy of a slice from a DataFrame\n",
      "\n",
      "See the caveats in the documentation: https://pandas.pydata.org/pandas-docs/stable/user_guide/indexing.html#returning-a-view-versus-a-copy\n",
      "  self._setitem_single_block(indexer, value, name)\n",
      "/Users/colinsuarez/opt/anaconda3/lib/python3.8/site-packages/pandas/core/indexing.py:1637: SettingWithCopyWarning: \n",
      "A value is trying to be set on a copy of a slice from a DataFrame\n",
      "\n",
      "See the caveats in the documentation: https://pandas.pydata.org/pandas-docs/stable/user_guide/indexing.html#returning-a-view-versus-a-copy\n",
      "  self._setitem_single_block(indexer, value, name)\n",
      "/Users/colinsuarez/opt/anaconda3/lib/python3.8/site-packages/pandas/core/indexing.py:1637: SettingWithCopyWarning: \n",
      "A value is trying to be set on a copy of a slice from a DataFrame\n",
      "\n",
      "See the caveats in the documentation: https://pandas.pydata.org/pandas-docs/stable/user_guide/indexing.html#returning-a-view-versus-a-copy\n",
      "  self._setitem_single_block(indexer, value, name)\n",
      "/Users/colinsuarez/opt/anaconda3/lib/python3.8/site-packages/pandas/core/indexing.py:1637: SettingWithCopyWarning: \n",
      "A value is trying to be set on a copy of a slice from a DataFrame\n",
      "\n",
      "See the caveats in the documentation: https://pandas.pydata.org/pandas-docs/stable/user_guide/indexing.html#returning-a-view-versus-a-copy\n",
      "  self._setitem_single_block(indexer, value, name)\n",
      "/Users/colinsuarez/opt/anaconda3/lib/python3.8/site-packages/pandas/core/indexing.py:1637: SettingWithCopyWarning: \n",
      "A value is trying to be set on a copy of a slice from a DataFrame\n",
      "\n",
      "See the caveats in the documentation: https://pandas.pydata.org/pandas-docs/stable/user_guide/indexing.html#returning-a-view-versus-a-copy\n",
      "  self._setitem_single_block(indexer, value, name)\n"
     ]
    }
   ],
   "source": [
    "# Data cleaning the test data\n",
    "\n",
    "print(test.groupby(['Pclass', 'Sex'])[['Age']].agg(['median']))\n",
    "\n",
    "test['Age'].loc[(test['Pclass'] == 1) & (test['Sex'] == 'female') & (test['Age'].isnull())]= 41\n",
    "test['Age'].loc[(test['Pclass'] == 1) & (test['Sex'] == 'male') & (test['Age'].isnull())]= 42\n",
    "\n",
    "test['Age'].loc[(test['Pclass'] == 2) & (test['Sex'] == 'female') & (test['Age'].isnull())]= 24\n",
    "test['Age'].loc[(test['Pclass'] == 2) & (test['Sex'] == 'male') & (test['Age'].isnull())]= 28\n",
    "\n",
    "test['Age'].loc[(test['Pclass'] == 3) & (test['Sex'] == 'female') & (test['Age'].isnull())]= 22\n",
    "test['Age'].loc[(test['Pclass'] == 3) & (test['Sex'] == 'male') & (test['Age'].isnull())]= 24\n",
    "\n",
    "print(train['Embarked'].value_counts())\n",
    "\n",
    "train['Embarked'].loc[(train['Embarked'].isnull())]= 'S'\n",
    "print(train['Embarked'].isnull().values.any()) \n",
    "\n",
    "df_test = test.drop(['Cabin', 'Name', 'Ticket', 'PassengerId'], axis=1)\n",
    "\n",
    "df_test['Embarked'] = df_test['Embarked'].astype('category').cat.codes\n",
    "df_test['Sex'] = df_test['Sex'].astype('category').cat.codes"
   ]
  },
  {
   "cell_type": "code",
   "execution_count": 47,
   "metadata": {},
   "outputs": [
    {
     "data": {
      "text/plain": [
       "LogisticRegression()"
      ]
     },
     "execution_count": 47,
     "metadata": {},
     "output_type": "execute_result"
    }
   ],
   "source": [
    "from sklearn.linear_model import LogisticRegression\n",
    "logreg2 = LogisticRegression()\n",
    "\n",
    "\n",
    "X2 = df_train.iloc[:, df_train.columns != 'Survived']\n",
    "Y2 = df_train['Survived']\n",
    "\n",
    "logreg2.fit(X2, Y2)"
   ]
  },
  {
   "cell_type": "markdown",
   "metadata": {},
   "source": [
    "How many will survive from the test dataset?"
   ]
  },
  {
   "cell_type": "code",
   "execution_count": 48,
   "metadata": {},
   "outputs": [
    {
     "name": "stdout",
     "output_type": "stream",
     "text": [
      "Number of 0s = 581\n",
      "Number of 1s = 310\n",
      "Number of total predictions = 891\n",
      "310 people will have survive from the test dataset.\n"
     ]
    }
   ],
   "source": [
    "import numpy as np\n",
    "\n",
    "test_predictions = logreg2.predict(X2)\n",
    "# test_predictions\n",
    "print(\"Number of 0s =\", np.sum( test_predictions==0 ) )\n",
    "print(\"Number of 1s =\", np.sum( test_predictions==1 ) )\n",
    "print(\"Number of total predictions =\", len(test_predictions) )\n",
    "\n",
    "print(\"310 people will have survive from the test dataset.\")"
   ]
  }
 ],
 "metadata": {
  "kernelspec": {
   "display_name": "Python 3",
   "language": "python",
   "name": "python3"
  },
  "language_info": {
   "codemirror_mode": {
    "name": "ipython",
    "version": 3
   },
   "file_extension": ".py",
   "mimetype": "text/x-python",
   "name": "python",
   "nbconvert_exporter": "python",
   "pygments_lexer": "ipython3",
   "version": "3.8.8"
  }
 },
 "nbformat": 4,
 "nbformat_minor": 4
}
