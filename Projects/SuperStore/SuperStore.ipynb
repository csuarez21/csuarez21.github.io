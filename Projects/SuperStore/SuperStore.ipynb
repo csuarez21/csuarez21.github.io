{
 "cells": [
  {
   "cell_type": "code",
   "execution_count": 1,
   "id": "307204f5-1a03-4c20-b111-5950b78d5524",
   "metadata": {},
   "outputs": [],
   "source": [
    "import pandas as pd\n",
    "import numpy as np\n",
    "import seaborn as sns\n",
    "import matplotlib.pyplot as plt"
   ]
  },
  {
   "cell_type": "markdown",
   "id": "74690a2d-8e25-4685-a8a4-dc92a5920e39",
   "metadata": {},
   "source": [
    "# Data Loading"
   ]
  },
  {
   "cell_type": "code",
   "execution_count": 2,
   "id": "d9135065-a053-4fb2-8cba-0f191e037587",
   "metadata": {},
   "outputs": [],
   "source": [
    "df = pd.read_csv('SuperStoreOrders.csv', parse_dates = ['order_date', 'ship_date'])"
   ]
  },
  {
   "cell_type": "code",
   "execution_count": 3,
   "id": "38a6fe3e-9ada-4c25-8134-89e99413c4d0",
   "metadata": {},
   "outputs": [
    {
     "data": {
      "text/html": [
       "<div>\n",
       "<style scoped>\n",
       "    .dataframe tbody tr th:only-of-type {\n",
       "        vertical-align: middle;\n",
       "    }\n",
       "\n",
       "    .dataframe tbody tr th {\n",
       "        vertical-align: top;\n",
       "    }\n",
       "\n",
       "    .dataframe thead th {\n",
       "        text-align: right;\n",
       "    }\n",
       "</style>\n",
       "<table border=\"1\" class=\"dataframe\">\n",
       "  <thead>\n",
       "    <tr style=\"text-align: right;\">\n",
       "      <th></th>\n",
       "      <th>order_id</th>\n",
       "      <th>order_date</th>\n",
       "      <th>ship_date</th>\n",
       "      <th>ship_mode</th>\n",
       "      <th>customer_name</th>\n",
       "      <th>segment</th>\n",
       "      <th>state</th>\n",
       "      <th>country</th>\n",
       "      <th>market</th>\n",
       "      <th>region</th>\n",
       "      <th>...</th>\n",
       "      <th>category</th>\n",
       "      <th>sub_category</th>\n",
       "      <th>product_name</th>\n",
       "      <th>sales</th>\n",
       "      <th>quantity</th>\n",
       "      <th>discount</th>\n",
       "      <th>profit</th>\n",
       "      <th>shipping_cost</th>\n",
       "      <th>order_priority</th>\n",
       "      <th>year</th>\n",
       "    </tr>\n",
       "  </thead>\n",
       "  <tbody>\n",
       "    <tr>\n",
       "      <th>0</th>\n",
       "      <td>AG-2011-2040</td>\n",
       "      <td>2011-01-01</td>\n",
       "      <td>2011-06-01</td>\n",
       "      <td>Standard Class</td>\n",
       "      <td>Toby Braunhardt</td>\n",
       "      <td>Consumer</td>\n",
       "      <td>Constantine</td>\n",
       "      <td>Algeria</td>\n",
       "      <td>Africa</td>\n",
       "      <td>Africa</td>\n",
       "      <td>...</td>\n",
       "      <td>Office Supplies</td>\n",
       "      <td>Storage</td>\n",
       "      <td>Tenex Lockers, Blue</td>\n",
       "      <td>408</td>\n",
       "      <td>2</td>\n",
       "      <td>0.0</td>\n",
       "      <td>106.140</td>\n",
       "      <td>35.46</td>\n",
       "      <td>Medium</td>\n",
       "      <td>2011</td>\n",
       "    </tr>\n",
       "    <tr>\n",
       "      <th>1</th>\n",
       "      <td>IN-2011-47883</td>\n",
       "      <td>2011-01-01</td>\n",
       "      <td>2011-08-01</td>\n",
       "      <td>Standard Class</td>\n",
       "      <td>Joseph Holt</td>\n",
       "      <td>Consumer</td>\n",
       "      <td>New South Wales</td>\n",
       "      <td>Australia</td>\n",
       "      <td>APAC</td>\n",
       "      <td>Oceania</td>\n",
       "      <td>...</td>\n",
       "      <td>Office Supplies</td>\n",
       "      <td>Supplies</td>\n",
       "      <td>Acme Trimmer, High Speed</td>\n",
       "      <td>120</td>\n",
       "      <td>3</td>\n",
       "      <td>0.1</td>\n",
       "      <td>36.036</td>\n",
       "      <td>9.72</td>\n",
       "      <td>Medium</td>\n",
       "      <td>2011</td>\n",
       "    </tr>\n",
       "    <tr>\n",
       "      <th>2</th>\n",
       "      <td>HU-2011-1220</td>\n",
       "      <td>2011-01-01</td>\n",
       "      <td>2011-05-01</td>\n",
       "      <td>Second Class</td>\n",
       "      <td>Annie Thurman</td>\n",
       "      <td>Consumer</td>\n",
       "      <td>Budapest</td>\n",
       "      <td>Hungary</td>\n",
       "      <td>EMEA</td>\n",
       "      <td>EMEA</td>\n",
       "      <td>...</td>\n",
       "      <td>Office Supplies</td>\n",
       "      <td>Storage</td>\n",
       "      <td>Tenex Box, Single Width</td>\n",
       "      <td>66</td>\n",
       "      <td>4</td>\n",
       "      <td>0.0</td>\n",
       "      <td>29.640</td>\n",
       "      <td>8.17</td>\n",
       "      <td>High</td>\n",
       "      <td>2011</td>\n",
       "    </tr>\n",
       "    <tr>\n",
       "      <th>3</th>\n",
       "      <td>IT-2011-3647632</td>\n",
       "      <td>2011-01-01</td>\n",
       "      <td>2011-05-01</td>\n",
       "      <td>Second Class</td>\n",
       "      <td>Eugene Moren</td>\n",
       "      <td>Home Office</td>\n",
       "      <td>Stockholm</td>\n",
       "      <td>Sweden</td>\n",
       "      <td>EU</td>\n",
       "      <td>North</td>\n",
       "      <td>...</td>\n",
       "      <td>Office Supplies</td>\n",
       "      <td>Paper</td>\n",
       "      <td>Enermax Note Cards, Premium</td>\n",
       "      <td>45</td>\n",
       "      <td>3</td>\n",
       "      <td>0.5</td>\n",
       "      <td>-26.055</td>\n",
       "      <td>4.82</td>\n",
       "      <td>High</td>\n",
       "      <td>2011</td>\n",
       "    </tr>\n",
       "    <tr>\n",
       "      <th>4</th>\n",
       "      <td>IN-2011-47883</td>\n",
       "      <td>2011-01-01</td>\n",
       "      <td>2011-08-01</td>\n",
       "      <td>Standard Class</td>\n",
       "      <td>Joseph Holt</td>\n",
       "      <td>Consumer</td>\n",
       "      <td>New South Wales</td>\n",
       "      <td>Australia</td>\n",
       "      <td>APAC</td>\n",
       "      <td>Oceania</td>\n",
       "      <td>...</td>\n",
       "      <td>Furniture</td>\n",
       "      <td>Furnishings</td>\n",
       "      <td>Eldon Light Bulb, Duo Pack</td>\n",
       "      <td>114</td>\n",
       "      <td>5</td>\n",
       "      <td>0.1</td>\n",
       "      <td>37.770</td>\n",
       "      <td>4.70</td>\n",
       "      <td>Medium</td>\n",
       "      <td>2011</td>\n",
       "    </tr>\n",
       "  </tbody>\n",
       "</table>\n",
       "<p>5 rows × 21 columns</p>\n",
       "</div>"
      ],
      "text/plain": [
       "          order_id order_date  ship_date       ship_mode    customer_name  \\\n",
       "0     AG-2011-2040 2011-01-01 2011-06-01  Standard Class  Toby Braunhardt   \n",
       "1    IN-2011-47883 2011-01-01 2011-08-01  Standard Class      Joseph Holt   \n",
       "2     HU-2011-1220 2011-01-01 2011-05-01    Second Class    Annie Thurman   \n",
       "3  IT-2011-3647632 2011-01-01 2011-05-01    Second Class     Eugene Moren   \n",
       "4    IN-2011-47883 2011-01-01 2011-08-01  Standard Class      Joseph Holt   \n",
       "\n",
       "       segment            state    country  market   region  ...  \\\n",
       "0     Consumer      Constantine    Algeria  Africa   Africa  ...   \n",
       "1     Consumer  New South Wales  Australia    APAC  Oceania  ...   \n",
       "2     Consumer         Budapest    Hungary    EMEA     EMEA  ...   \n",
       "3  Home Office        Stockholm     Sweden      EU    North  ...   \n",
       "4     Consumer  New South Wales  Australia    APAC  Oceania  ...   \n",
       "\n",
       "          category sub_category                 product_name sales quantity  \\\n",
       "0  Office Supplies      Storage          Tenex Lockers, Blue   408        2   \n",
       "1  Office Supplies     Supplies     Acme Trimmer, High Speed   120        3   \n",
       "2  Office Supplies      Storage      Tenex Box, Single Width    66        4   \n",
       "3  Office Supplies        Paper  Enermax Note Cards, Premium    45        3   \n",
       "4        Furniture  Furnishings   Eldon Light Bulb, Duo Pack   114        5   \n",
       "\n",
       "   discount   profit  shipping_cost  order_priority  year  \n",
       "0       0.0  106.140          35.46          Medium  2011  \n",
       "1       0.1   36.036           9.72          Medium  2011  \n",
       "2       0.0   29.640           8.17            High  2011  \n",
       "3       0.5  -26.055           4.82            High  2011  \n",
       "4       0.1   37.770           4.70          Medium  2011  \n",
       "\n",
       "[5 rows x 21 columns]"
      ]
     },
     "execution_count": 3,
     "metadata": {},
     "output_type": "execute_result"
    }
   ],
   "source": [
    "df.head()"
   ]
  },
  {
   "cell_type": "code",
   "execution_count": 4,
   "id": "12d3c812-ab0c-4c33-b5ad-7e737ce31032",
   "metadata": {},
   "outputs": [
    {
     "name": "stdout",
     "output_type": "stream",
     "text": [
      "<class 'pandas.core.frame.DataFrame'>\n",
      "RangeIndex: 51290 entries, 0 to 51289\n",
      "Data columns (total 21 columns):\n",
      " #   Column          Non-Null Count  Dtype         \n",
      "---  ------          --------------  -----         \n",
      " 0   order_id        51290 non-null  object        \n",
      " 1   order_date      51290 non-null  datetime64[ns]\n",
      " 2   ship_date       51290 non-null  datetime64[ns]\n",
      " 3   ship_mode       51290 non-null  object        \n",
      " 4   customer_name   51290 non-null  object        \n",
      " 5   segment         51290 non-null  object        \n",
      " 6   state           51290 non-null  object        \n",
      " 7   country         51290 non-null  object        \n",
      " 8   market          51290 non-null  object        \n",
      " 9   region          51290 non-null  object        \n",
      " 10  product_id      51290 non-null  object        \n",
      " 11  category        51290 non-null  object        \n",
      " 12  sub_category    51290 non-null  object        \n",
      " 13  product_name    51290 non-null  object        \n",
      " 14  sales           51290 non-null  object        \n",
      " 15  quantity        51290 non-null  int64         \n",
      " 16  discount        51290 non-null  float64       \n",
      " 17  profit          51290 non-null  float64       \n",
      " 18  shipping_cost   51290 non-null  float64       \n",
      " 19  order_priority  51290 non-null  object        \n",
      " 20  year            51290 non-null  int64         \n",
      "dtypes: datetime64[ns](2), float64(3), int64(2), object(14)\n",
      "memory usage: 8.2+ MB\n"
     ]
    }
   ],
   "source": [
    "df.info()"
   ]
  },
  {
   "cell_type": "code",
   "execution_count": 5,
   "id": "87d619ac-b947-42b5-99fd-c9757ca63210",
   "metadata": {},
   "outputs": [],
   "source": [
    "# Changing the sales column to numeric data\n",
    "df['sales'] = pd.to_numeric(df['sales'], errors='coerce')"
   ]
  },
  {
   "cell_type": "code",
   "execution_count": 6,
   "id": "cb1beb25-e4f9-4a08-a095-a525f794ae7b",
   "metadata": {},
   "outputs": [
    {
     "data": {
      "text/plain": [
       "(51290, 21)"
      ]
     },
     "execution_count": 6,
     "metadata": {},
     "output_type": "execute_result"
    }
   ],
   "source": [
    "df.shape"
   ]
  },
  {
   "cell_type": "code",
   "execution_count": 7,
   "id": "6aeeee14-8531-4d4f-953e-77b84d6cf3a2",
   "metadata": {},
   "outputs": [
    {
     "data": {
      "text/plain": [
       "order_id             0\n",
       "order_date           0\n",
       "ship_date            0\n",
       "ship_mode            0\n",
       "customer_name        0\n",
       "segment              0\n",
       "state                0\n",
       "country              0\n",
       "market               0\n",
       "region               0\n",
       "product_id           0\n",
       "category             0\n",
       "sub_category         0\n",
       "product_name         0\n",
       "sales             2630\n",
       "quantity             0\n",
       "discount             0\n",
       "profit               0\n",
       "shipping_cost        0\n",
       "order_priority       0\n",
       "year                 0\n",
       "dtype: int64"
      ]
     },
     "execution_count": 7,
     "metadata": {},
     "output_type": "execute_result"
    }
   ],
   "source": [
    "# Looking for any null values\n",
    "df.isna().sum()"
   ]
  },
  {
   "cell_type": "code",
   "execution_count": 8,
   "id": "01bb1cd7-fb26-480e-bc50-04d2bf1dc702",
   "metadata": {},
   "outputs": [
    {
     "data": {
      "text/html": [
       "<div>\n",
       "<style scoped>\n",
       "    .dataframe tbody tr th:only-of-type {\n",
       "        vertical-align: middle;\n",
       "    }\n",
       "\n",
       "    .dataframe tbody tr th {\n",
       "        vertical-align: top;\n",
       "    }\n",
       "\n",
       "    .dataframe thead th {\n",
       "        text-align: right;\n",
       "    }\n",
       "</style>\n",
       "<table border=\"1\" class=\"dataframe\">\n",
       "  <thead>\n",
       "    <tr style=\"text-align: right;\">\n",
       "      <th></th>\n",
       "      <th>order_id</th>\n",
       "      <th>order_date</th>\n",
       "      <th>ship_date</th>\n",
       "      <th>ship_mode</th>\n",
       "      <th>customer_name</th>\n",
       "      <th>segment</th>\n",
       "      <th>state</th>\n",
       "      <th>country</th>\n",
       "      <th>market</th>\n",
       "      <th>region</th>\n",
       "      <th>...</th>\n",
       "      <th>category</th>\n",
       "      <th>sub_category</th>\n",
       "      <th>product_name</th>\n",
       "      <th>sales</th>\n",
       "      <th>quantity</th>\n",
       "      <th>discount</th>\n",
       "      <th>profit</th>\n",
       "      <th>shipping_cost</th>\n",
       "      <th>order_priority</th>\n",
       "      <th>year</th>\n",
       "    </tr>\n",
       "  </thead>\n",
       "  <tbody>\n",
       "    <tr>\n",
       "      <th>27</th>\n",
       "      <td>MX-2011-111255</td>\n",
       "      <td>2011-04-01</td>\n",
       "      <td>2011-09-01</td>\n",
       "      <td>Second Class</td>\n",
       "      <td>Russell Applegate</td>\n",
       "      <td>Consumer</td>\n",
       "      <td>Parana</td>\n",
       "      <td>Brazil</td>\n",
       "      <td>LATAM</td>\n",
       "      <td>South</td>\n",
       "      <td>...</td>\n",
       "      <td>Furniture</td>\n",
       "      <td>Bookcases</td>\n",
       "      <td>Dania Classic Bookcase, Pine</td>\n",
       "      <td>NaN</td>\n",
       "      <td>6</td>\n",
       "      <td>0.000</td>\n",
       "      <td>609.8400</td>\n",
       "      <td>109.13</td>\n",
       "      <td>Medium</td>\n",
       "      <td>2011</td>\n",
       "    </tr>\n",
       "    <tr>\n",
       "      <th>43</th>\n",
       "      <td>MX-2011-109267</td>\n",
       "      <td>2011-05-01</td>\n",
       "      <td>2011-09-01</td>\n",
       "      <td>Standard Class</td>\n",
       "      <td>Jennifer Halladay</td>\n",
       "      <td>Consumer</td>\n",
       "      <td>Veracruz</td>\n",
       "      <td>Mexico</td>\n",
       "      <td>LATAM</td>\n",
       "      <td>North</td>\n",
       "      <td>...</td>\n",
       "      <td>Office Supplies</td>\n",
       "      <td>Appliances</td>\n",
       "      <td>Hoover Stove, Black</td>\n",
       "      <td>NaN</td>\n",
       "      <td>8</td>\n",
       "      <td>0.000</td>\n",
       "      <td>999.3600</td>\n",
       "      <td>191.20</td>\n",
       "      <td>Medium</td>\n",
       "      <td>2011</td>\n",
       "    </tr>\n",
       "    <tr>\n",
       "      <th>58</th>\n",
       "      <td>CA-2011-167199</td>\n",
       "      <td>2011-07-01</td>\n",
       "      <td>2011-11-01</td>\n",
       "      <td>Standard Class</td>\n",
       "      <td>Maria Etezadi</td>\n",
       "      <td>Home Office</td>\n",
       "      <td>Kentucky</td>\n",
       "      <td>United States</td>\n",
       "      <td>US</td>\n",
       "      <td>South</td>\n",
       "      <td>...</td>\n",
       "      <td>Furniture</td>\n",
       "      <td>Chairs</td>\n",
       "      <td>Global Deluxe High-Back Manager's Chair</td>\n",
       "      <td>NaN</td>\n",
       "      <td>9</td>\n",
       "      <td>0.000</td>\n",
       "      <td>746.4078</td>\n",
       "      <td>258.99</td>\n",
       "      <td>High</td>\n",
       "      <td>2011</td>\n",
       "    </tr>\n",
       "    <tr>\n",
       "      <th>83</th>\n",
       "      <td>AO-2011-1670</td>\n",
       "      <td>2011-08-01</td>\n",
       "      <td>2011-01-13</td>\n",
       "      <td>Standard Class</td>\n",
       "      <td>Henia Zydlo</td>\n",
       "      <td>Consumer</td>\n",
       "      <td>Benguela</td>\n",
       "      <td>Angola</td>\n",
       "      <td>Africa</td>\n",
       "      <td>Africa</td>\n",
       "      <td>...</td>\n",
       "      <td>Furniture</td>\n",
       "      <td>Bookcases</td>\n",
       "      <td>Ikea Classic Bookcase, Pine</td>\n",
       "      <td>NaN</td>\n",
       "      <td>6</td>\n",
       "      <td>0.000</td>\n",
       "      <td>49.5000</td>\n",
       "      <td>349.87</td>\n",
       "      <td>High</td>\n",
       "      <td>2011</td>\n",
       "    </tr>\n",
       "    <tr>\n",
       "      <th>84</th>\n",
       "      <td>IN-2011-19330</td>\n",
       "      <td>2011-08-01</td>\n",
       "      <td>2011-12-01</td>\n",
       "      <td>Second Class</td>\n",
       "      <td>Nicole Fjeld</td>\n",
       "      <td>Home Office</td>\n",
       "      <td>Yunnan</td>\n",
       "      <td>China</td>\n",
       "      <td>APAC</td>\n",
       "      <td>North Asia</td>\n",
       "      <td>...</td>\n",
       "      <td>Technology</td>\n",
       "      <td>Machines</td>\n",
       "      <td>Panasonic Inkjet, White</td>\n",
       "      <td>NaN</td>\n",
       "      <td>7</td>\n",
       "      <td>0.000</td>\n",
       "      <td>260.8200</td>\n",
       "      <td>275.52</td>\n",
       "      <td>Medium</td>\n",
       "      <td>2011</td>\n",
       "    </tr>\n",
       "    <tr>\n",
       "      <th>...</th>\n",
       "      <td>...</td>\n",
       "      <td>...</td>\n",
       "      <td>...</td>\n",
       "      <td>...</td>\n",
       "      <td>...</td>\n",
       "      <td>...</td>\n",
       "      <td>...</td>\n",
       "      <td>...</td>\n",
       "      <td>...</td>\n",
       "      <td>...</td>\n",
       "      <td>...</td>\n",
       "      <td>...</td>\n",
       "      <td>...</td>\n",
       "      <td>...</td>\n",
       "      <td>...</td>\n",
       "      <td>...</td>\n",
       "      <td>...</td>\n",
       "      <td>...</td>\n",
       "      <td>...</td>\n",
       "      <td>...</td>\n",
       "      <td>...</td>\n",
       "    </tr>\n",
       "    <tr>\n",
       "      <th>51151</th>\n",
       "      <td>MX-2014-167682</td>\n",
       "      <td>2014-12-30</td>\n",
       "      <td>2015-03-01</td>\n",
       "      <td>Standard Class</td>\n",
       "      <td>Jill Fjeld</td>\n",
       "      <td>Consumer</td>\n",
       "      <td>Pará</td>\n",
       "      <td>Brazil</td>\n",
       "      <td>LATAM</td>\n",
       "      <td>South</td>\n",
       "      <td>...</td>\n",
       "      <td>Furniture</td>\n",
       "      <td>Bookcases</td>\n",
       "      <td>Safco Library with Doors, Mobile</td>\n",
       "      <td>NaN</td>\n",
       "      <td>7</td>\n",
       "      <td>0.000</td>\n",
       "      <td>768.8800</td>\n",
       "      <td>155.85</td>\n",
       "      <td>High</td>\n",
       "      <td>2014</td>\n",
       "    </tr>\n",
       "    <tr>\n",
       "      <th>51152</th>\n",
       "      <td>US-2014-158526</td>\n",
       "      <td>2014-12-30</td>\n",
       "      <td>2015-02-01</td>\n",
       "      <td>Second Class</td>\n",
       "      <td>Katherine Hughes</td>\n",
       "      <td>Consumer</td>\n",
       "      <td>Kentucky</td>\n",
       "      <td>United States</td>\n",
       "      <td>US</td>\n",
       "      <td>South</td>\n",
       "      <td>...</td>\n",
       "      <td>Furniture</td>\n",
       "      <td>Chairs</td>\n",
       "      <td>DMI Arturo Collection Mission-style Design Woo...</td>\n",
       "      <td>NaN</td>\n",
       "      <td>8</td>\n",
       "      <td>0.000</td>\n",
       "      <td>314.0384</td>\n",
       "      <td>139.47</td>\n",
       "      <td>Medium</td>\n",
       "      <td>2014</td>\n",
       "    </tr>\n",
       "    <tr>\n",
       "      <th>51228</th>\n",
       "      <td>MX-2014-116267</td>\n",
       "      <td>2014-12-31</td>\n",
       "      <td>2015-03-01</td>\n",
       "      <td>Second Class</td>\n",
       "      <td>Erica Bern</td>\n",
       "      <td>Corporate</td>\n",
       "      <td>São Paulo</td>\n",
       "      <td>Brazil</td>\n",
       "      <td>LATAM</td>\n",
       "      <td>South</td>\n",
       "      <td>...</td>\n",
       "      <td>Technology</td>\n",
       "      <td>Copiers</td>\n",
       "      <td>Canon Wireless Fax, Color</td>\n",
       "      <td>NaN</td>\n",
       "      <td>5</td>\n",
       "      <td>0.002</td>\n",
       "      <td>301.4660</td>\n",
       "      <td>253.25</td>\n",
       "      <td>High</td>\n",
       "      <td>2014</td>\n",
       "    </tr>\n",
       "    <tr>\n",
       "      <th>51229</th>\n",
       "      <td>IN-2014-43550</td>\n",
       "      <td>2014-12-31</td>\n",
       "      <td>2015-01-01</td>\n",
       "      <td>First Class</td>\n",
       "      <td>Marina Lichtenstein</td>\n",
       "      <td>Corporate</td>\n",
       "      <td>Jakarta</td>\n",
       "      <td>Indonesia</td>\n",
       "      <td>APAC</td>\n",
       "      <td>Southeast Asia</td>\n",
       "      <td>...</td>\n",
       "      <td>Furniture</td>\n",
       "      <td>Bookcases</td>\n",
       "      <td>Safco Library with Doors, Pine</td>\n",
       "      <td>NaN</td>\n",
       "      <td>3</td>\n",
       "      <td>0.070</td>\n",
       "      <td>46.9206</td>\n",
       "      <td>243.11</td>\n",
       "      <td>High</td>\n",
       "      <td>2014</td>\n",
       "    </tr>\n",
       "    <tr>\n",
       "      <th>51231</th>\n",
       "      <td>IN-2014-30390</td>\n",
       "      <td>2014-12-31</td>\n",
       "      <td>2015-03-01</td>\n",
       "      <td>First Class</td>\n",
       "      <td>Justin Deggeller</td>\n",
       "      <td>Corporate</td>\n",
       "      <td>Bangkok</td>\n",
       "      <td>Thailand</td>\n",
       "      <td>APAC</td>\n",
       "      <td>Southeast Asia</td>\n",
       "      <td>...</td>\n",
       "      <td>Furniture</td>\n",
       "      <td>Tables</td>\n",
       "      <td>Lesro Training Table, Adjustable Height</td>\n",
       "      <td>NaN</td>\n",
       "      <td>9</td>\n",
       "      <td>0.570</td>\n",
       "      <td>-1195.2387</td>\n",
       "      <td>86.86</td>\n",
       "      <td>High</td>\n",
       "      <td>2014</td>\n",
       "    </tr>\n",
       "  </tbody>\n",
       "</table>\n",
       "<p>2630 rows × 21 columns</p>\n",
       "</div>"
      ],
      "text/plain": [
       "             order_id order_date  ship_date       ship_mode  \\\n",
       "27     MX-2011-111255 2011-04-01 2011-09-01    Second Class   \n",
       "43     MX-2011-109267 2011-05-01 2011-09-01  Standard Class   \n",
       "58     CA-2011-167199 2011-07-01 2011-11-01  Standard Class   \n",
       "83       AO-2011-1670 2011-08-01 2011-01-13  Standard Class   \n",
       "84      IN-2011-19330 2011-08-01 2011-12-01    Second Class   \n",
       "...               ...        ...        ...             ...   \n",
       "51151  MX-2014-167682 2014-12-30 2015-03-01  Standard Class   \n",
       "51152  US-2014-158526 2014-12-30 2015-02-01    Second Class   \n",
       "51228  MX-2014-116267 2014-12-31 2015-03-01    Second Class   \n",
       "51229   IN-2014-43550 2014-12-31 2015-01-01     First Class   \n",
       "51231   IN-2014-30390 2014-12-31 2015-03-01     First Class   \n",
       "\n",
       "             customer_name      segment      state        country  market  \\\n",
       "27       Russell Applegate     Consumer     Parana         Brazil   LATAM   \n",
       "43       Jennifer Halladay     Consumer   Veracruz         Mexico   LATAM   \n",
       "58           Maria Etezadi  Home Office   Kentucky  United States      US   \n",
       "83             Henia Zydlo     Consumer   Benguela         Angola  Africa   \n",
       "84            Nicole Fjeld  Home Office     Yunnan          China    APAC   \n",
       "...                    ...          ...        ...            ...     ...   \n",
       "51151           Jill Fjeld     Consumer       Pará         Brazil   LATAM   \n",
       "51152     Katherine Hughes     Consumer   Kentucky  United States      US   \n",
       "51228           Erica Bern    Corporate  São Paulo         Brazil   LATAM   \n",
       "51229  Marina Lichtenstein    Corporate    Jakarta      Indonesia    APAC   \n",
       "51231     Justin Deggeller    Corporate    Bangkok       Thailand    APAC   \n",
       "\n",
       "               region  ...         category sub_category  \\\n",
       "27              South  ...        Furniture    Bookcases   \n",
       "43              North  ...  Office Supplies   Appliances   \n",
       "58              South  ...        Furniture       Chairs   \n",
       "83             Africa  ...        Furniture    Bookcases   \n",
       "84         North Asia  ...       Technology     Machines   \n",
       "...               ...  ...              ...          ...   \n",
       "51151           South  ...        Furniture    Bookcases   \n",
       "51152           South  ...        Furniture       Chairs   \n",
       "51228           South  ...       Technology      Copiers   \n",
       "51229  Southeast Asia  ...        Furniture    Bookcases   \n",
       "51231  Southeast Asia  ...        Furniture       Tables   \n",
       "\n",
       "                                            product_name sales  quantity  \\\n",
       "27                          Dania Classic Bookcase, Pine   NaN         6   \n",
       "43                                   Hoover Stove, Black   NaN         8   \n",
       "58               Global Deluxe High-Back Manager's Chair   NaN         9   \n",
       "83                           Ikea Classic Bookcase, Pine   NaN         6   \n",
       "84                               Panasonic Inkjet, White   NaN         7   \n",
       "...                                                  ...   ...       ...   \n",
       "51151                   Safco Library with Doors, Mobile   NaN         7   \n",
       "51152  DMI Arturo Collection Mission-style Design Woo...   NaN         8   \n",
       "51228                          Canon Wireless Fax, Color   NaN         5   \n",
       "51229                     Safco Library with Doors, Pine   NaN         3   \n",
       "51231            Lesro Training Table, Adjustable Height   NaN         9   \n",
       "\n",
       "       discount     profit  shipping_cost  order_priority  year  \n",
       "27        0.000   609.8400         109.13          Medium  2011  \n",
       "43        0.000   999.3600         191.20          Medium  2011  \n",
       "58        0.000   746.4078         258.99            High  2011  \n",
       "83        0.000    49.5000         349.87            High  2011  \n",
       "84        0.000   260.8200         275.52          Medium  2011  \n",
       "...         ...        ...            ...             ...   ...  \n",
       "51151     0.000   768.8800         155.85            High  2014  \n",
       "51152     0.000   314.0384         139.47          Medium  2014  \n",
       "51228     0.002   301.4660         253.25            High  2014  \n",
       "51229     0.070    46.9206         243.11            High  2014  \n",
       "51231     0.570 -1195.2387          86.86            High  2014  \n",
       "\n",
       "[2630 rows x 21 columns]"
      ]
     },
     "execution_count": 8,
     "metadata": {},
     "output_type": "execute_result"
    }
   ],
   "source": [
    "df[df['sales'].isna()]"
   ]
  },
  {
   "cell_type": "code",
   "execution_count": 9,
   "id": "e7f301dc-000d-46af-bfe8-9d78d1949125",
   "metadata": {},
   "outputs": [],
   "source": [
    "df['sales'] = df['sales'].fillna(0)"
   ]
  },
  {
   "cell_type": "code",
   "execution_count": 10,
   "id": "bebd13a4-6cba-4224-918f-3d4953ffb954",
   "metadata": {},
   "outputs": [],
   "source": [
    "# Creating a column to calculate the number of days between order_date and ship_date\n",
    "df['Days_Waited'] = abs((df['ship_date'] - df['order_date']).dt.days)"
   ]
  },
  {
   "cell_type": "code",
   "execution_count": 11,
   "id": "bbfc557f-dd59-46dc-9709-aeae619d26cc",
   "metadata": {},
   "outputs": [
    {
     "data": {
      "text/html": [
       "<div>\n",
       "<style scoped>\n",
       "    .dataframe tbody tr th:only-of-type {\n",
       "        vertical-align: middle;\n",
       "    }\n",
       "\n",
       "    .dataframe tbody tr th {\n",
       "        vertical-align: top;\n",
       "    }\n",
       "\n",
       "    .dataframe thead th {\n",
       "        text-align: right;\n",
       "    }\n",
       "</style>\n",
       "<table border=\"1\" class=\"dataframe\">\n",
       "  <thead>\n",
       "    <tr style=\"text-align: right;\">\n",
       "      <th></th>\n",
       "      <th>order_id</th>\n",
       "      <th>order_date</th>\n",
       "      <th>ship_date</th>\n",
       "      <th>ship_mode</th>\n",
       "      <th>customer_name</th>\n",
       "      <th>segment</th>\n",
       "      <th>state</th>\n",
       "      <th>country</th>\n",
       "      <th>market</th>\n",
       "      <th>region</th>\n",
       "      <th>...</th>\n",
       "      <th>sub_category</th>\n",
       "      <th>product_name</th>\n",
       "      <th>sales</th>\n",
       "      <th>quantity</th>\n",
       "      <th>discount</th>\n",
       "      <th>profit</th>\n",
       "      <th>shipping_cost</th>\n",
       "      <th>order_priority</th>\n",
       "      <th>year</th>\n",
       "      <th>Days_Waited</th>\n",
       "    </tr>\n",
       "  </thead>\n",
       "  <tbody>\n",
       "  </tbody>\n",
       "</table>\n",
       "<p>0 rows × 22 columns</p>\n",
       "</div>"
      ],
      "text/plain": [
       "Empty DataFrame\n",
       "Columns: [order_id, order_date, ship_date, ship_mode, customer_name, segment, state, country, market, region, product_id, category, sub_category, product_name, sales, quantity, discount, profit, shipping_cost, order_priority, year, Days_Waited]\n",
       "Index: []\n",
       "\n",
       "[0 rows x 22 columns]"
      ]
     },
     "execution_count": 11,
     "metadata": {},
     "output_type": "execute_result"
    }
   ],
   "source": [
    "df[df.duplicated()]"
   ]
  },
  {
   "cell_type": "code",
   "execution_count": 12,
   "id": "c749ea71-bafc-4263-bf5b-f148a9ca9548",
   "metadata": {},
   "outputs": [
    {
     "data": {
      "text/html": [
       "<div>\n",
       "<style scoped>\n",
       "    .dataframe tbody tr th:only-of-type {\n",
       "        vertical-align: middle;\n",
       "    }\n",
       "\n",
       "    .dataframe tbody tr th {\n",
       "        vertical-align: top;\n",
       "    }\n",
       "\n",
       "    .dataframe thead th {\n",
       "        text-align: right;\n",
       "    }\n",
       "</style>\n",
       "<table border=\"1\" class=\"dataframe\">\n",
       "  <thead>\n",
       "    <tr style=\"text-align: right;\">\n",
       "      <th></th>\n",
       "      <th>sales</th>\n",
       "      <th>quantity</th>\n",
       "      <th>discount</th>\n",
       "      <th>profit</th>\n",
       "      <th>shipping_cost</th>\n",
       "      <th>year</th>\n",
       "      <th>Days_Waited</th>\n",
       "    </tr>\n",
       "  </thead>\n",
       "  <tbody>\n",
       "    <tr>\n",
       "      <th>count</th>\n",
       "      <td>51290.000000</td>\n",
       "      <td>51290.000000</td>\n",
       "      <td>51290.000000</td>\n",
       "      <td>51290.000000</td>\n",
       "      <td>51290.000000</td>\n",
       "      <td>51290.000000</td>\n",
       "      <td>51290.000000</td>\n",
       "    </tr>\n",
       "    <tr>\n",
       "      <th>mean</th>\n",
       "      <td>152.761318</td>\n",
       "      <td>3.476545</td>\n",
       "      <td>0.142908</td>\n",
       "      <td>28.641740</td>\n",
       "      <td>26.375915</td>\n",
       "      <td>2012.777208</td>\n",
       "      <td>61.420784</td>\n",
       "    </tr>\n",
       "    <tr>\n",
       "      <th>std</th>\n",
       "      <td>199.062579</td>\n",
       "      <td>2.278766</td>\n",
       "      <td>0.212280</td>\n",
       "      <td>174.424113</td>\n",
       "      <td>57.296804</td>\n",
       "      <td>1.098931</td>\n",
       "      <td>76.239595</td>\n",
       "    </tr>\n",
       "    <tr>\n",
       "      <th>min</th>\n",
       "      <td>0.000000</td>\n",
       "      <td>1.000000</td>\n",
       "      <td>0.000000</td>\n",
       "      <td>-6599.978000</td>\n",
       "      <td>0.000000</td>\n",
       "      <td>2011.000000</td>\n",
       "      <td>0.000000</td>\n",
       "    </tr>\n",
       "    <tr>\n",
       "      <th>25%</th>\n",
       "      <td>24.000000</td>\n",
       "      <td>2.000000</td>\n",
       "      <td>0.000000</td>\n",
       "      <td>0.000000</td>\n",
       "      <td>2.610000</td>\n",
       "      <td>2012.000000</td>\n",
       "      <td>4.000000</td>\n",
       "    </tr>\n",
       "    <tr>\n",
       "      <th>50%</th>\n",
       "      <td>68.000000</td>\n",
       "      <td>3.000000</td>\n",
       "      <td>0.000000</td>\n",
       "      <td>9.240000</td>\n",
       "      <td>7.790000</td>\n",
       "      <td>2013.000000</td>\n",
       "      <td>7.000000</td>\n",
       "    </tr>\n",
       "    <tr>\n",
       "      <th>75%</th>\n",
       "      <td>196.000000</td>\n",
       "      <td>5.000000</td>\n",
       "      <td>0.200000</td>\n",
       "      <td>36.810000</td>\n",
       "      <td>24.450000</td>\n",
       "      <td>2014.000000</td>\n",
       "      <td>121.000000</td>\n",
       "    </tr>\n",
       "    <tr>\n",
       "      <th>max</th>\n",
       "      <td>999.000000</td>\n",
       "      <td>14.000000</td>\n",
       "      <td>0.850000</td>\n",
       "      <td>8399.976000</td>\n",
       "      <td>933.570000</td>\n",
       "      <td>2014.000000</td>\n",
       "      <td>322.000000</td>\n",
       "    </tr>\n",
       "  </tbody>\n",
       "</table>\n",
       "</div>"
      ],
      "text/plain": [
       "              sales      quantity      discount        profit  shipping_cost  \\\n",
       "count  51290.000000  51290.000000  51290.000000  51290.000000   51290.000000   \n",
       "mean     152.761318      3.476545      0.142908     28.641740      26.375915   \n",
       "std      199.062579      2.278766      0.212280    174.424113      57.296804   \n",
       "min        0.000000      1.000000      0.000000  -6599.978000       0.000000   \n",
       "25%       24.000000      2.000000      0.000000      0.000000       2.610000   \n",
       "50%       68.000000      3.000000      0.000000      9.240000       7.790000   \n",
       "75%      196.000000      5.000000      0.200000     36.810000      24.450000   \n",
       "max      999.000000     14.000000      0.850000   8399.976000     933.570000   \n",
       "\n",
       "               year   Days_Waited  \n",
       "count  51290.000000  51290.000000  \n",
       "mean    2012.777208     61.420784  \n",
       "std        1.098931     76.239595  \n",
       "min     2011.000000      0.000000  \n",
       "25%     2012.000000      4.000000  \n",
       "50%     2013.000000      7.000000  \n",
       "75%     2014.000000    121.000000  \n",
       "max     2014.000000    322.000000  "
      ]
     },
     "execution_count": 12,
     "metadata": {},
     "output_type": "execute_result"
    }
   ],
   "source": [
    "# Descriptive statistics of the data\n",
    "df.describe()"
   ]
  },
  {
   "cell_type": "markdown",
   "id": "980916d1-b0db-4f19-a497-e29fc85f938b",
   "metadata": {},
   "source": [
    "### What is the preferred shipping method?"
   ]
  },
  {
   "cell_type": "code",
   "execution_count": 13,
   "id": "6c4b68e3-1a6e-45ea-8e49-3e81262ee565",
   "metadata": {},
   "outputs": [],
   "source": [
    "df_Days_Waited_by_ship_mode = df[['order_date','ship_date','ship_mode', 'Days_Waited']]"
   ]
  },
  {
   "cell_type": "code",
   "execution_count": 73,
   "id": "0f37bf78-0ef8-4e38-b9a9-f734e353cbb3",
   "metadata": {},
   "outputs": [
    {
     "data": {
      "text/plain": [
       "<AxesSubplot:ylabel='ship_mode'>"
      ]
     },
     "execution_count": 73,
     "metadata": {},
     "output_type": "execute_result"
    },
    {
     "data": {
      "image/png": "[encoded data removed]",
      "text/plain": [
       "<Figure size 432x288 with 1 Axes>"
      ]
     },
     "metadata": {},
     "output_type": "display_data"
    }
   ],
   "source": [
    "df['ship_mode'].value_counts().plot.pie(autopct='%1.1f%%')"
   ]
  },
  {
   "cell_type": "markdown",
   "id": "1e6155f9-8160-427d-b00d-80ddeba508eb",
   "metadata": {},
   "source": [
    "### What are the average number of days it takes to ship out an order by shipping method? "
   ]
  },
  {
   "cell_type": "code",
   "execution_count": 15,
   "id": "634647d5-f225-48d9-958b-a1bfa3d0cfc4",
   "metadata": {},
   "outputs": [
    {
     "data": {
      "text/html": [
       "<div>\n",
       "<style scoped>\n",
       "    .dataframe tbody tr th:only-of-type {\n",
       "        vertical-align: middle;\n",
       "    }\n",
       "\n",
       "    .dataframe tbody tr th {\n",
       "        vertical-align: top;\n",
       "    }\n",
       "\n",
       "    .dataframe thead th {\n",
       "        text-align: right;\n",
       "    }\n",
       "</style>\n",
       "<table border=\"1\" class=\"dataframe\">\n",
       "  <thead>\n",
       "    <tr style=\"text-align: right;\">\n",
       "      <th></th>\n",
       "      <th>Days_Waited</th>\n",
       "    </tr>\n",
       "    <tr>\n",
       "      <th>ship_mode</th>\n",
       "      <th></th>\n",
       "    </tr>\n",
       "  </thead>\n",
       "  <tbody>\n",
       "    <tr>\n",
       "      <th>First Class</th>\n",
       "      <td>41.939507</td>\n",
       "    </tr>\n",
       "    <tr>\n",
       "      <th>Same Day</th>\n",
       "      <td>1.000000</td>\n",
       "    </tr>\n",
       "    <tr>\n",
       "      <th>Second Class</th>\n",
       "      <td>53.036376</td>\n",
       "    </tr>\n",
       "    <tr>\n",
       "      <th>Standard Class</th>\n",
       "      <td>74.283119</td>\n",
       "    </tr>\n",
       "  </tbody>\n",
       "</table>\n",
       "</div>"
      ],
      "text/plain": [
       "                Days_Waited\n",
       "ship_mode                  \n",
       "First Class       41.939507\n",
       "Same Day           1.000000\n",
       "Second Class      53.036376\n",
       "Standard Class    74.283119"
      ]
     },
     "execution_count": 15,
     "metadata": {},
     "output_type": "execute_result"
    }
   ],
   "source": [
    "df_Days_Waited_by_ship_mode.groupby(['ship_mode']).mean()"
   ]
  },
  {
   "cell_type": "markdown",
   "id": "074d4d2e-e551-4b34-a846-617815b1eadf",
   "metadata": {},
   "source": [
    "### Which segment is the best selling?"
   ]
  },
  {
   "cell_type": "code",
   "execution_count": 16,
   "id": "bc101d0c-e8c8-485a-a426-63b43799acc1",
   "metadata": {},
   "outputs": [
    {
     "data": {
      "text/plain": [
       "Consumer       26518\n",
       "Corporate      15429\n",
       "Home Office     9343\n",
       "Name: segment, dtype: int64"
      ]
     },
     "execution_count": 16,
     "metadata": {},
     "output_type": "execute_result"
    }
   ],
   "source": [
    "df['segment'].value_counts()"
   ]
  },
  {
   "cell_type": "code",
   "execution_count": 17,
   "id": "b8e2d378-d580-4826-b00e-8a9b20fad213",
   "metadata": {},
   "outputs": [
    {
     "data": {
      "text/plain": [
       "<AxesSubplot:xlabel='Segment', ylabel='Count'>"
      ]
     },
     "execution_count": 17,
     "metadata": {},
     "output_type": "execute_result"
    },
    {
     "data": {
      "image/png": "[encoded data removed]",
      "text/plain": [
       "<Figure size 432x288 with 1 Axes>"
      ]
     },
     "metadata": {
      "needs_background": "light"
     },
     "output_type": "display_data"
    }
   ],
   "source": [
    "df['segment'].value_counts().plot.bar(xlabel = 'Segment', ylabel = 'Count')"
   ]
  },
  {
   "cell_type": "markdown",
   "id": "3fdfab0f-2e4b-4157-a8b9-bb4011bd7929",
   "metadata": {},
   "source": [
    "### Who are the top customers? What is the profit from these customers?"
   ]
  },
  {
   "cell_type": "code",
   "execution_count": 18,
   "id": "14696f3c-cb06-4604-a288-6a34ad7f4899",
   "metadata": {},
   "outputs": [
    {
     "data": {
      "text/plain": [
       "Muhammed Yedwab        108\n",
       "Steven Ward            106\n",
       "Bill Eplett            102\n",
       "Gary Hwang             102\n",
       "Patrick O'Brill        102\n",
       "Harry Greene           101\n",
       "Eric Murdock           100\n",
       "Art Ferguson            98\n",
       "Brosina Hoffman         97\n",
       "Chloris Kastensmidt     96\n",
       "Name: customer_name, dtype: int64"
      ]
     },
     "execution_count": 18,
     "metadata": {},
     "output_type": "execute_result"
    }
   ],
   "source": [
    "df['customer_name'].value_counts()[:10]"
   ]
  },
  {
   "cell_type": "code",
   "execution_count": 19,
   "id": "ac3757c1-d3d2-4c75-ad24-5d8f9a1a040a",
   "metadata": {},
   "outputs": [],
   "source": [
    "customers = list(df['customer_name'].value_counts()[:10].index)\n",
    "top10 = df['customer_name'].isin(customers)\n",
    "top10_df = df[top10]"
   ]
  },
  {
   "cell_type": "code",
   "execution_count": 20,
   "id": "f2ea5b87-8c76-467b-9ff9-d9219a347e80",
   "metadata": {},
   "outputs": [
    {
     "data": {
      "text/plain": [
       "customer_name\n",
       "Art Ferguson           2278.30370\n",
       "Bill Eplett            7410.00530\n",
       "Brosina Hoffman        4876.93980\n",
       "Chloris Kastensmidt     965.81294\n",
       "Eric Murdock           3306.01548\n",
       "Gary Hwang             3908.11510\n",
       "Harry Greene           -291.49228\n",
       "Muhammed Yedwab        2642.65408\n",
       "Patrick O'Brill        3778.36370\n",
       "Steven Ward            2794.73160\n",
       "Name: profit, dtype: float64"
      ]
     },
     "execution_count": 20,
     "metadata": {},
     "output_type": "execute_result"
    }
   ],
   "source": [
    "top10_profit = top10_df.groupby('customer_name')['profit'].sum()\n",
    "top10_profit"
   ]
  },
  {
   "cell_type": "markdown",
   "id": "5d23a541-6d6e-4658-8eb6-d91f03a7c081",
   "metadata": {},
   "source": [
    "Harry Greene is in the top 10 customers, however Harry's profit is in the negative so it is a loss. I will remove Harry from the list."
   ]
  },
  {
   "cell_type": "code",
   "execution_count": 21,
   "id": "d04403cb-d590-49a1-b797-b1b8396a9c6b",
   "metadata": {},
   "outputs": [],
   "source": [
    "top10_df = top10_df[top10_df['customer_name'] != 'Harry Greene']"
   ]
  },
  {
   "cell_type": "code",
   "execution_count": 22,
   "id": "ec334230-065e-417c-9c4e-217d770f602b",
   "metadata": {},
   "outputs": [],
   "source": [
    "del customers[5]"
   ]
  },
  {
   "cell_type": "code",
   "execution_count": 29,
   "id": "83410d8a-8ae8-470b-b49d-0eafde49a659",
   "metadata": {},
   "outputs": [
    {
     "data": {
      "text/plain": [
       "customer_name\n",
       "Bill Eplett            7410.00530\n",
       "Brosina Hoffman        4876.93980\n",
       "Gary Hwang             3908.11510\n",
       "Patrick O'Brill        3778.36370\n",
       "Eric Murdock           3306.01548\n",
       "Steven Ward            2794.73160\n",
       "Muhammed Yedwab        2642.65408\n",
       "Art Ferguson           2278.30370\n",
       "Chloris Kastensmidt     965.81294\n",
       "Name: profit, dtype: float64"
      ]
     },
     "execution_count": 29,
     "metadata": {},
     "output_type": "execute_result"
    }
   ],
   "source": [
    "top9_profit = top10_df.groupby('customer_name')['profit'].sum().sort_values(ascending= False)\n",
    "top9_profit"
   ]
  },
  {
   "cell_type": "code",
   "execution_count": 32,
   "id": "b0b34976-ce43-476f-8b1e-1d4550ded1b1",
   "metadata": {},
   "outputs": [
    {
     "data": {
      "text/plain": [
       "Text(0.5, 1.0, 'Profit Partition of Top 9 Customers')"
      ]
     },
     "execution_count": 32,
     "metadata": {},
     "output_type": "execute_result"
    },
    {
     "data": {
      "image/png": "[encoded data removed]",
      "text/plain": [
       "<Figure size 576x576 with 1 Axes>"
      ]
     },
     "metadata": {},
     "output_type": "display_data"
    }
   ],
   "source": [
    "top10_df.groupby(top10_df['customer_name'])['profit'].sum().sort_values(ascending = \n",
    "    False).plot.pie(autopct='%1.1f%%', figsize = (8,8))\n",
    "plt.title('Profit Partition of Top 9 Customers')"
   ]
  },
  {
   "cell_type": "markdown",
   "id": "e69536ef-c8b3-443b-9a25-f0f566e05275",
   "metadata": {},
   "source": [
    "### Which regions have the highest and lowest number of orders?"
   ]
  },
  {
   "cell_type": "code",
   "execution_count": 34,
   "id": "8ca0bd0c-b895-40be-a399-d80cc62b355b",
   "metadata": {},
   "outputs": [
    {
     "data": {
      "text/plain": [
       "Central           11117\n",
       "South              6645\n",
       "EMEA               5029\n",
       "North              4785\n",
       "Africa             4587\n",
       "Oceania            3487\n",
       "West               3203\n",
       "Southeast Asia     3129\n",
       "East               2848\n",
       "North Asia         2338\n",
       "Central Asia       2048\n",
       "Caribbean          1690\n",
       "Canada              384\n",
       "Name: region, dtype: int64"
      ]
     },
     "execution_count": 34,
     "metadata": {},
     "output_type": "execute_result"
    }
   ],
   "source": [
    "df['region'].value_counts()"
   ]
  },
  {
   "cell_type": "markdown",
   "id": "e973b980-96f9-44d0-ad9e-82649be7100a",
   "metadata": {},
   "source": [
    "The Central region is the top seller while Canada is the lowest."
   ]
  },
  {
   "cell_type": "markdown",
   "id": "ab071128-cb09-4b66-a9c3-c3ec8af961cc",
   "metadata": {},
   "source": [
    "### Which states are the top 10 selling states in the United States? What are their profit partition?"
   ]
  },
  {
   "cell_type": "code",
   "execution_count": 43,
   "id": "b26d7ea0-93e9-48a0-afa7-734293262411",
   "metadata": {},
   "outputs": [],
   "source": [
    "mask = df['country'] == 'United States'\n",
    "USA = df[mask]"
   ]
  },
  {
   "cell_type": "code",
   "execution_count": 44,
   "id": "6196c146-595a-4f67-a50c-207b38f61b20",
   "metadata": {},
   "outputs": [
    {
     "data": {
      "text/plain": [
       "California        2001\n",
       "New York          1128\n",
       "Texas              985\n",
       "Pennsylvania       587\n",
       "Washington         506\n",
       "Illinois           492\n",
       "Ohio               469\n",
       "Florida            383\n",
       "Michigan           255\n",
       "North Carolina     249\n",
       "Name: state, dtype: int64"
      ]
     },
     "execution_count": 44,
     "metadata": {},
     "output_type": "execute_result"
    }
   ],
   "source": [
    "USA['state'].value_counts()[0:10]"
   ]
  },
  {
   "cell_type": "code",
   "execution_count": 49,
   "id": "1d76c966-ce27-46ee-b896-962f3719e9ea",
   "metadata": {},
   "outputs": [
    {
     "data": {
      "text/plain": [
       "Text(0.5, 1.0, 'Profit Partition of Top 10 States')"
      ]
     },
     "execution_count": 49,
     "metadata": {},
     "output_type": "execute_result"
    },
    {
     "data": {
      "image/png": "[encoded data removed]",
      "text/plain": [
       "<Figure size 576x576 with 1 Axes>"
      ]
     },
     "metadata": {},
     "output_type": "display_data"
    }
   ],
   "source": [
    "USA.groupby(USA['state'])['profit'].sum().sort_values(ascending = False)[0:10].plot.pie(autopct='%1.1f%%', figsize = (8,8))\n",
    "plt.title('Profit Partition of Top 10 States')"
   ]
  },
  {
   "cell_type": "markdown",
   "id": "decef727-1b52-4e22-ae9e-f44bd7cc4e68",
   "metadata": {},
   "source": [
    "### What is the top selling and least selling sub-category?"
   ]
  },
  {
   "cell_type": "code",
   "execution_count": 50,
   "id": "e029629b-f889-47d2-8784-c9dfc8f82d2c",
   "metadata": {},
   "outputs": [
    {
     "data": {
      "text/plain": [
       "Binders        6152\n",
       "Storage        5059\n",
       "Art            4883\n",
       "Paper          3538\n",
       "Chairs         3434\n",
       "Phones         3357\n",
       "Furnishings    3170\n",
       "Accessories    3075\n",
       "Labels         2606\n",
       "Envelopes      2435\n",
       "Supplies       2425\n",
       "Fasteners      2420\n",
       "Bookcases      2411\n",
       "Copiers        2223\n",
       "Appliances     1755\n",
       "Machines       1486\n",
       "Tables          861\n",
       "Name: sub_category, dtype: int64"
      ]
     },
     "execution_count": 50,
     "metadata": {},
     "output_type": "execute_result"
    }
   ],
   "source": [
    "df['sub_category'].value_counts()"
   ]
  },
  {
   "cell_type": "code",
   "execution_count": 60,
   "id": "34a4edee-a97a-417d-a7ee-d300124a3fc3",
   "metadata": {},
   "outputs": [
    {
     "data": {
      "text/plain": [
       "Binders        6152\n",
       "Storage        5059\n",
       "Art            4883\n",
       "Paper          3538\n",
       "Chairs         3434\n",
       "Phones         3357\n",
       "Furnishings    3170\n",
       "Accessories    3075\n",
       "Labels         2606\n",
       "Envelopes      2435\n",
       "Supplies       2425\n",
       "Fasteners      2420\n",
       "Bookcases      2411\n",
       "Copiers        2223\n",
       "Appliances     1755\n",
       "Machines       1486\n",
       "Tables          861\n",
       "Name: sub_category, dtype: int64"
      ]
     },
     "execution_count": 60,
     "metadata": {},
     "output_type": "execute_result"
    }
   ],
   "source": [
    "df['sub_category'].value_counts()"
   ]
  },
  {
   "cell_type": "code",
   "execution_count": 68,
   "id": "ab8bfeb3-40b4-4dd2-8f9c-6874e3b85f77",
   "metadata": {},
   "outputs": [
    {
     "data": {
      "image/png": "[encoded data removed]",
      "text/plain": [
       "<Figure size 576x288 with 1 Axes>"
      ]
     },
     "metadata": {
      "needs_background": "light"
     },
     "output_type": "display_data"
    }
   ],
   "source": [
    "plt.figure(figsize=(8,4))\n",
    "sns.countplot(x=df['sub_category'])\n",
    "plt.xticks(rotation=90)\n",
    "plt.show()"
   ]
  },
  {
   "cell_type": "markdown",
   "id": "88399272-2aca-480e-b5c4-29a22d534cd5",
   "metadata": {},
   "source": [
    "### What is the most profitable sub-category?"
   ]
  },
  {
   "cell_type": "code",
   "execution_count": 71,
   "id": "67a171f3-d9a7-4d45-95c0-cd57cee8b68a",
   "metadata": {},
   "outputs": [
    {
     "data": {
      "text/plain": [
       "sub_category\n",
       "Copiers        258567.54818\n",
       "Phones         216717.00580\n",
       "Bookcases      161924.41950\n",
       "Chairs         141973.79750\n",
       "Appliances     141680.58940\n",
       "Accessories    129626.30620\n",
       "Storage        108461.48980\n",
       "Binders         72449.84600\n",
       "Paper           59207.68270\n",
       "Machines        58867.87300\n",
       "Art             57953.91090\n",
       "Furnishings     46967.42550\n",
       "Envelopes       29601.11630\n",
       "Supplies        22583.26310\n",
       "Labels          15010.51200\n",
       "Fasteners       11525.42410\n",
       "Tables         -64083.38870\n",
       "Name: profit, dtype: float64"
      ]
     },
     "execution_count": 71,
     "metadata": {},
     "output_type": "execute_result"
    }
   ],
   "source": [
    "category_prof = df.groupby('sub_category')['profit'].sum().sort_values(ascending= False)\n",
    "category_prof"
   ]
  },
  {
   "cell_type": "markdown",
   "id": "a12d3e73-d266-43f5-abd4-d9247af6025a",
   "metadata": {},
   "source": [
    "### What are the top 10 most selling products?"
   ]
  },
  {
   "cell_type": "code",
   "execution_count": 75,
   "id": "3e92f3fd-b0d0-44cb-92f1-6567f12ac56a",
   "metadata": {},
   "outputs": [
    {
     "data": {
      "text/html": [
       "<div>\n",
       "<style scoped>\n",
       "    .dataframe tbody tr th:only-of-type {\n",
       "        vertical-align: middle;\n",
       "    }\n",
       "\n",
       "    .dataframe tbody tr th {\n",
       "        vertical-align: top;\n",
       "    }\n",
       "\n",
       "    .dataframe thead th {\n",
       "        text-align: right;\n",
       "    }\n",
       "</style>\n",
       "<table border=\"1\" class=\"dataframe\">\n",
       "  <thead>\n",
       "    <tr style=\"text-align: right;\">\n",
       "      <th></th>\n",
       "      <th>quantity</th>\n",
       "    </tr>\n",
       "    <tr>\n",
       "      <th>product_name</th>\n",
       "      <th></th>\n",
       "    </tr>\n",
       "  </thead>\n",
       "  <tbody>\n",
       "    <tr>\n",
       "      <th>Staples</th>\n",
       "      <td>876</td>\n",
       "    </tr>\n",
       "    <tr>\n",
       "      <th>Cardinal Index Tab, Clear</th>\n",
       "      <td>337</td>\n",
       "    </tr>\n",
       "    <tr>\n",
       "      <th>Eldon File Cart, Single Width</th>\n",
       "      <td>321</td>\n",
       "    </tr>\n",
       "    <tr>\n",
       "      <th>Rogers File Cart, Single Width</th>\n",
       "      <td>262</td>\n",
       "    </tr>\n",
       "    <tr>\n",
       "      <th>Sanford Pencil Sharpener, Water Color</th>\n",
       "      <td>259</td>\n",
       "    </tr>\n",
       "    <tr>\n",
       "      <th>Stockwell Paper Clips, Assorted Sizes</th>\n",
       "      <td>253</td>\n",
       "    </tr>\n",
       "    <tr>\n",
       "      <th>Avery Index Tab, Clear</th>\n",
       "      <td>252</td>\n",
       "    </tr>\n",
       "    <tr>\n",
       "      <th>Ibico Index Tab, Clear</th>\n",
       "      <td>251</td>\n",
       "    </tr>\n",
       "    <tr>\n",
       "      <th>Smead File Cart, Single Width</th>\n",
       "      <td>250</td>\n",
       "    </tr>\n",
       "    <tr>\n",
       "      <th>Stanley Pencil Sharpener, Water Color</th>\n",
       "      <td>242</td>\n",
       "    </tr>\n",
       "  </tbody>\n",
       "</table>\n",
       "</div>"
      ],
      "text/plain": [
       "                                       quantity\n",
       "product_name                                   \n",
       "Staples                                     876\n",
       "Cardinal Index Tab, Clear                   337\n",
       "Eldon File Cart, Single Width               321\n",
       "Rogers File Cart, Single Width              262\n",
       "Sanford Pencil Sharpener, Water Color       259\n",
       "Stockwell Paper Clips, Assorted Sizes       253\n",
       "Avery Index Tab, Clear                      252\n",
       "Ibico Index Tab, Clear                      251\n",
       "Smead File Cart, Single Width               250\n",
       "Stanley Pencil Sharpener, Water Color       242"
      ]
     },
     "execution_count": 75,
     "metadata": {},
     "output_type": "execute_result"
    }
   ],
   "source": [
    "most_sold = pd.DataFrame(df.groupby(['product_name']).sum()['quantity'])\n",
    "most_sold.sort_values('quantity',ascending=False)[:10]"
   ]
  },
  {
   "cell_type": "markdown",
   "id": "cbeba7bf-d8e6-4c75-be85-3ce36eaf222d",
   "metadata": {},
   "source": [
    "### What is the profit/loss and net profit from 2011-2014?"
   ]
  },
  {
   "cell_type": "code",
   "execution_count": 82,
   "id": "2ce521b7-3e6e-477a-bf05-4ee15849fa7a",
   "metadata": {},
   "outputs": [],
   "source": [
    "df_prof = df[df['profit'] > 0]\n",
    "df_loss = df[df['profit'] < 0]"
   ]
  },
  {
   "cell_type": "code",
   "execution_count": 85,
   "id": "e3f231f8-ed03-4027-a69f-f569499bf1bf",
   "metadata": {},
   "outputs": [
    {
     "data": {
      "text/plain": [
       "2389392.212"
      ]
     },
     "execution_count": 85,
     "metadata": {},
     "output_type": "execute_result"
    }
   ],
   "source": [
    "# Profit sum\n",
    "profit = df_prof['profit'].sum()\n",
    "profit"
   ]
  },
  {
   "cell_type": "code",
   "execution_count": 86,
   "id": "e6538e70-8f6f-40f2-95c9-b1d6a290fbf9",
   "metadata": {},
   "outputs": [
    {
     "data": {
      "text/plain": [
       "-920357.39072"
      ]
     },
     "execution_count": 86,
     "metadata": {},
     "output_type": "execute_result"
    }
   ],
   "source": [
    "# Total Loss\n",
    "loss = df_loss['profit'].sum()\n",
    "loss"
   ]
  },
  {
   "cell_type": "code",
   "execution_count": 87,
   "id": "57635eee-2817-4204-a8da-0c3ee9c40996",
   "metadata": {},
   "outputs": [
    {
     "data": {
      "text/plain": [
       "3309749.60272"
      ]
     },
     "execution_count": 87,
     "metadata": {},
     "output_type": "execute_result"
    }
   ],
   "source": [
    "net_profit = profit - loss\n",
    "net_profit"
   ]
  },
  {
   "cell_type": "markdown",
   "id": "1224894e-9aa3-46f7-8278-35f38028d628",
   "metadata": {},
   "source": [
    "# Insights"
   ]
  },
  {
   "cell_type": "markdown",
   "id": "603fd8f5-a818-4ac0-89e3-4fed52b81b3e",
   "metadata": {},
   "source": [
    "The preferred method of shipping is standard class. \n",
    "\n",
    "The best selling segment is the consumer segment.\n",
    "\n",
    "Central region is the best selling region while Canada is the lowest.\n",
    "\n",
    "In the United States, California has the most number of orders followed by New York.\n",
    "\n",
    "Binders are the top selling sub-category however they are not the most profitable. The most profitable sub-category is Copiers.\n",
    "\n",
    "Staples are the most selling product.\n",
    "\n",
    "The business has a net profit of 3309749.60272 from 2011-2014."
   ]
  },
  {
   "cell_type": "markdown",
   "id": "5dec1deb-38d8-450e-bc8b-40139bcae477",
   "metadata": {},
   "source": [
    "# Recommendations"
   ]
  },
  {
   "cell_type": "markdown",
   "id": "13bad697-c5c3-4768-890f-2bbad37f5036",
   "metadata": {},
   "source": [
    "The business should expand its business by marketing more in Canada to help improve it's sales in that region. \n",
    "\n",
    "If the company wants to keep increasing it's profits, it should promote selling copiers more. Copiers are not the top selling product but it is the most profitable when sold."
   ]
  },
  {
   "cell_type": "code",
   "execution_count": null,
   "id": "7893166f-1122-4ab1-ae43-68bd9fa3734e",
   "metadata": {},
   "outputs": [],
   "source": []
  }
 ],
 "metadata": {
  "kernelspec": {
   "display_name": "Python 3",
   "language": "python",
   "name": "python3"
  },
  "language_info": {
   "codemirror_mode": {
    "name": "ipython",
    "version": 3
   },
   "file_extension": ".py",
   "mimetype": "text/x-python",
   "name": "python",
   "nbconvert_exporter": "python",
   "pygments_lexer": "ipython3",
   "version": "3.8.8"
  }
 },
 "nbformat": 4,
 "nbformat_minor": 5
}
